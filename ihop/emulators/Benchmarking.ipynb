{
 "cells": [
  {
   "cell_type": "markdown",
   "id": "d663d3c3-500b-416e-97eb-59a764460996",
   "metadata": {},
   "source": [
    "# Benchmark me"
   ]
  },
  {
   "cell_type": "code",
   "execution_count": 1,
   "id": "918b35af-6ade-4b5b-b383-3c4ae71a1a5c",
   "metadata": {},
   "outputs": [],
   "source": [
    "# imports\n",
    "import os\n",
    "import numpy as np\n",
    "\n",
    "import torch\n",
    "\n",
    "from ihop.emulators import nn\n",
    "from ihop.emulators.nn import SimpleNet, DenseNet"
   ]
  },
  {
   "cell_type": "code",
   "execution_count": 2,
   "id": "5f979e65-96b5-4e44-bd1b-344af650516f",
   "metadata": {},
   "outputs": [
    {
     "name": "stdout",
     "output_type": "stream",
     "text": [
      "Created `%t` as an alias for `%timeit`.\n",
      "Created `%%t` as an alias for `%%timeit`.\n"
     ]
    }
   ],
   "source": [
    "%alias_magic t timeit"
   ]
  },
  {
   "cell_type": "markdown",
   "id": "e2a45b60-83c8-4152-bb76-ba868cb17e76",
   "metadata": {},
   "source": [
    "# Load model"
   ]
  },
  {
   "cell_type": "code",
   "execution_count": 3,
   "id": "465ec1c9-5c0a-4396-adcc-84c1d66449ce",
   "metadata": {},
   "outputs": [],
   "source": [
    "em_path = os.path.join(os.getenv('OS_COLOR'), 'IHOP', 'Emulators')"
   ]
  },
  {
   "cell_type": "code",
   "execution_count": 4,
   "id": "6738ee98-fd04-4eb0-9b0f-9cc2e8ab1442",
   "metadata": {},
   "outputs": [],
   "source": [
    "em_file = os.path.join(em_path, 'densenet_NMF3_L23', \n",
    "                       'densenet_NMF_[512, 128, 128]_batchnorm_epochs_2500_p_0.05_lr_0.001.pth')"
   ]
  },
  {
   "cell_type": "code",
   "execution_count": 5,
   "id": "3a0a4a0c-09ab-4342-a04a-835c9cedd40f",
   "metadata": {},
   "outputs": [],
   "source": [
    "model = torch.load(em_file, map_location=torch.device('cpu'))"
   ]
  },
  {
   "cell_type": "markdown",
   "id": "c620b0ad-e91f-40c4-801c-14aacb3d2a4e",
   "metadata": {},
   "source": [
    "# Benchmark"
   ]
  },
  {
   "cell_type": "code",
   "execution_count": 6,
   "id": "769194bd-f5fa-41d2-8f1a-5b0f740a1192",
   "metadata": {},
   "outputs": [],
   "source": [
    "device = torch.device('cuda' if torch.cuda.is_available() else 'cpu')"
   ]
  },
  {
   "cell_type": "code",
   "execution_count": 7,
   "id": "d6a57bcc-51c8-48cd-84fd-b8679054526d",
   "metadata": {},
   "outputs": [
    {
     "name": "stdout",
     "output_type": "stream",
     "text": [
      "621 µs ± 68.8 µs per loop (mean ± std. dev. of 7 runs, 1,000 loops each)\n"
     ]
    }
   ],
   "source": [
    "%t tmp = model.prediction(np.array([0.1, 0.2, 0.3, 0.3, 0.4, 0.5, 0.6, -0.5]), device)"
   ]
  },
  {
   "cell_type": "code",
   "execution_count": null,
   "id": "717f67e8-c4d8-4c59-b5c0-ddace3123ce0",
   "metadata": {},
   "outputs": [],
   "source": []
  }
 ],
 "metadata": {
  "kernelspec": {
   "display_name": "Python 3 (ipykernel)",
   "language": "python",
   "name": "python3"
  },
  "language_info": {
   "codemirror_mode": {
    "name": "ipython",
    "version": 3
   },
   "file_extension": ".py",
   "mimetype": "text/x-python",
   "name": "python",
   "nbconvert_exporter": "python",
   "pygments_lexer": "ipython3",
   "version": "3.10.10"
  }
 },
 "nbformat": 4,
 "nbformat_minor": 5
}
