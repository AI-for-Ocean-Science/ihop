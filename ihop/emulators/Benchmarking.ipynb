{
 "cells": [
  {
   "cell_type": "markdown",
   "id": "d663d3c3-500b-416e-97eb-59a764460996",
   "metadata": {},
   "source": [
    "# Benchmark me"
   ]
  },
  {
   "cell_type": "code",
   "execution_count": 12,
   "id": "918b35af-6ade-4b5b-b383-3c4ae71a1a5c",
   "metadata": {},
   "outputs": [],
   "source": [
    "# imports\n",
    "import os\n",
    "import numpy as np\n",
    "\n",
    "import torch\n",
    "import h5py\n",
    "\n",
    "from ihop.emulators import nn\n",
    "from ihop.emulators.nn import SimpleNet, DenseNet\n",
    "from ihop.emulators import io"
   ]
  },
  {
   "cell_type": "code",
   "execution_count": 2,
   "id": "5f979e65-96b5-4e44-bd1b-344af650516f",
   "metadata": {},
   "outputs": [
    {
     "name": "stdout",
     "output_type": "stream",
     "text": [
      "Created `%t` as an alias for `%timeit`.\n",
      "Created `%%t` as an alias for `%%timeit`.\n"
     ]
    }
   ],
   "source": [
    "%alias_magic t timeit"
   ]
  },
  {
   "cell_type": "markdown",
   "id": "e2a45b60-83c8-4152-bb76-ba868cb17e76",
   "metadata": {},
   "source": [
    "# Load model"
   ]
  },
  {
   "cell_type": "code",
   "execution_count": 3,
   "id": "465ec1c9-5c0a-4396-adcc-84c1d66449ce",
   "metadata": {},
   "outputs": [],
   "source": [
    "em_path = os.path.join(os.getenv('OS_COLOR'), 'IHOP', 'Emulators')"
   ]
  },
  {
   "cell_type": "code",
   "execution_count": 4,
   "id": "6738ee98-fd04-4eb0-9b0f-9cc2e8ab1442",
   "metadata": {},
   "outputs": [],
   "source": [
    "em_file = os.path.join(em_path, 'densenet_NMF3_L23', \n",
    "                       'densenet_NMF_[512, 128, 128]_batchnorm_epochs_2500_p_0.05_lr_0.001.pth')"
   ]
  },
  {
   "cell_type": "code",
   "execution_count": 5,
   "id": "3a0a4a0c-09ab-4342-a04a-835c9cedd40f",
   "metadata": {},
   "outputs": [],
   "source": [
    "#model = torch.load(em_file, map_location=torch.device('cpu'))\n",
    "model = io.load_nn(em_file)"
   ]
  },
  {
   "cell_type": "markdown",
   "id": "c620b0ad-e91f-40c4-801c-14aacb3d2a4e",
   "metadata": {},
   "source": [
    "# Benchmark"
   ]
  },
  {
   "cell_type": "code",
   "execution_count": 6,
   "id": "769194bd-f5fa-41d2-8f1a-5b0f740a1192",
   "metadata": {},
   "outputs": [],
   "source": [
    "device = torch.device('cuda' if torch.cuda.is_available() else 'cpu')"
   ]
  },
  {
   "cell_type": "code",
   "execution_count": 7,
   "id": "d6a57bcc-51c8-48cd-84fd-b8679054526d",
   "metadata": {},
   "outputs": [
    {
     "name": "stdout",
     "output_type": "stream",
     "text": [
      "573 µs ± 74.6 µs per loop (mean ± std. dev. of 7 runs, 1,000 loops each)\n"
     ]
    }
   ],
   "source": [
    "%t tmp = model.prediction(np.array([0.1, 0.2, 0.3, 0.3, 0.4, 0.5, 0.6, -0.5]), device)"
   ]
  },
  {
   "cell_type": "code",
   "execution_count": 8,
   "id": "717f67e8-c4d8-4c59-b5c0-ddace3123ce0",
   "metadata": {},
   "outputs": [
    {
     "data": {
      "text/plain": [
       "'cpu'"
      ]
     },
     "execution_count": 8,
     "metadata": {},
     "output_type": "execute_result"
    }
   ],
   "source": [
    "device.type"
   ]
  },
  {
   "cell_type": "markdown",
   "id": "d9628f4c-f86b-4f56-a82c-1beadee1c0ea",
   "metadata": {},
   "source": [
    "# Check"
   ]
  },
  {
   "cell_type": "code",
   "execution_count": 10,
   "id": "5dd82338-4d7b-4dc9-a139-eaa4c7c299dd",
   "metadata": {},
   "outputs": [
    {
     "ename": "AttributeError",
     "evalue": "'DenseNet' object has no attribute 'ninput'",
     "output_type": "error",
     "traceback": [
      "\u001b[0;31m---------------------------------------------------------------------------\u001b[0m",
      "\u001b[0;31mAttributeError\u001b[0m                            Traceback (most recent call last)",
      "Cell \u001b[0;32mIn[10], line 1\u001b[0m\n\u001b[0;32m----> 1\u001b[0m \u001b[43mmodel\u001b[49m\u001b[38;5;241;43m.\u001b[39;49m\u001b[43mninput\u001b[49m \u001b[38;5;129;01mis\u001b[39;00m \u001b[38;5;28;01mNone\u001b[39;00m\n",
      "File \u001b[0;32m~/miniconda3/envs/os/lib/python3.10/site-packages/torch-2.0.1-py3.10-linux-x86_64.egg/torch/nn/modules/module.py:1614\u001b[0m, in \u001b[0;36mModule.__getattr__\u001b[0;34m(self, name)\u001b[0m\n\u001b[1;32m   1612\u001b[0m     \u001b[38;5;28;01mif\u001b[39;00m name \u001b[38;5;129;01min\u001b[39;00m modules:\n\u001b[1;32m   1613\u001b[0m         \u001b[38;5;28;01mreturn\u001b[39;00m modules[name]\n\u001b[0;32m-> 1614\u001b[0m \u001b[38;5;28;01mraise\u001b[39;00m \u001b[38;5;167;01mAttributeError\u001b[39;00m(\u001b[38;5;124m\"\u001b[39m\u001b[38;5;124m'\u001b[39m\u001b[38;5;132;01m{}\u001b[39;00m\u001b[38;5;124m'\u001b[39m\u001b[38;5;124m object has no attribute \u001b[39m\u001b[38;5;124m'\u001b[39m\u001b[38;5;132;01m{}\u001b[39;00m\u001b[38;5;124m'\u001b[39m\u001b[38;5;124m\"\u001b[39m\u001b[38;5;241m.\u001b[39mformat(\n\u001b[1;32m   1615\u001b[0m     \u001b[38;5;28mtype\u001b[39m(\u001b[38;5;28mself\u001b[39m)\u001b[38;5;241m.\u001b[39m\u001b[38;5;18m__name__\u001b[39m, name))\n",
      "\u001b[0;31mAttributeError\u001b[0m: 'DenseNet' object has no attribute 'ninput'"
     ]
    }
   ],
   "source": [
    "model.ninput"
   ]
  },
  {
   "cell_type": "markdown",
   "id": "845d994e-0e64-485b-aa42-cb2946284820",
   "metadata": {},
   "source": [
    "----"
   ]
  },
  {
   "cell_type": "markdown",
   "id": "78a01949-4ec1-4876-ac37-f620891d7688",
   "metadata": {},
   "source": [
    "# Testing.."
   ]
  },
  {
   "cell_type": "code",
   "execution_count": 13,
   "id": "90a10fac-52d1-4027-a945-53541723975e",
   "metadata": {},
   "outputs": [
    {
     "data": {
      "text/plain": [
       "<KeysViewHDF5 ['mcmc']>"
      ]
     },
     "execution_count": 13,
     "metadata": {},
     "output_type": "execute_result"
    }
   ],
   "source": [
    "d = h5py.File('MCMC_NN_NMF_i200.h5', 'r')\n",
    "d.keys()"
   ]
  },
  {
   "cell_type": "code",
   "execution_count": 15,
   "id": "78e2213a-3067-4cba-a792-2750b602783d",
   "metadata": {},
   "outputs": [
    {
     "data": {
      "text/plain": [
       "<KeysViewHDF5 ['accepted', 'chain', 'log_prob']>"
      ]
     },
     "execution_count": 15,
     "metadata": {},
     "output_type": "execute_result"
    }
   ],
   "source": [
    "d['mcmc'].keys()"
   ]
  },
  {
   "cell_type": "code",
   "execution_count": 16,
   "id": "d68ccc30-0a37-4f07-b340-afd359dcdadf",
   "metadata": {},
   "outputs": [
    {
     "data": {
      "text/plain": [
       "(20000, 32, 8)"
      ]
     },
     "execution_count": 16,
     "metadata": {},
     "output_type": "execute_result"
    }
   ],
   "source": [
    "d['mcmc']['chain'].shape"
   ]
  },
  {
   "cell_type": "code",
   "execution_count": null,
   "id": "ba413348-b39e-4949-b36c-cae085b6f4e4",
   "metadata": {},
   "outputs": [],
   "source": []
  }
 ],
 "metadata": {
  "kernelspec": {
   "display_name": "Python 3 (ipykernel)",
   "language": "python",
   "name": "python3"
  },
  "language_info": {
   "codemirror_mode": {
    "name": "ipython",
    "version": 3
   },
   "file_extension": ".py",
   "mimetype": "text/x-python",
   "name": "python",
   "nbconvert_exporter": "python",
   "pygments_lexer": "ipython3",
   "version": "3.10.10"
  }
 },
 "nbformat": 4,
 "nbformat_minor": 5
}
