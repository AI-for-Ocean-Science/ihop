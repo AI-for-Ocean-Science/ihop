{
 "cells": [
  {
   "cell_type": "markdown",
   "id": "73dcb7ab-b0de-48e2-9a93-a65c235da218",
   "metadata": {},
   "source": [
    "# Debuggin NMF"
   ]
  },
  {
   "cell_type": "code",
   "execution_count": 9,
   "id": "c2819234-9a3c-4afa-816b-e36c54ba792c",
   "metadata": {},
   "outputs": [],
   "source": [
    "# imports\n",
    "import os\n",
    "import numpy as np\n",
    "\n",
    "import torch\n",
    "import h5py\n",
    "\n",
    "from matplotlib import pyplot as plt\n",
    "\n",
    "from ihop.emulators import nn\n",
    "from ihop.emulators.nn import SimpleNet, DenseNet\n",
    "from ihop.emulators import io\n",
    "from ihop.iops.nmf import load_loisel_2023\n",
    "from ihop.emulators import io as ihop_io\n",
    "from ihop.iops import nmf as ihop_nmf"
   ]
  },
  {
   "cell_type": "code",
   "execution_count": 10,
   "id": "9c56ed37-c387-486a-a322-a5d3c9b28d57",
   "metadata": {},
   "outputs": [],
   "source": [
    "%matplotlib ipympl"
   ]
  },
  {
   "cell_type": "markdown",
   "id": "e80a5063-e0e7-4d20-a32f-a1caa19b718f",
   "metadata": {},
   "source": [
    "# Load "
   ]
  },
  {
   "cell_type": "code",
   "execution_count": 12,
   "id": "e04dd70a-d031-4713-9074-d031641013e5",
   "metadata": {},
   "outputs": [
    {
     "name": "stdout",
     "output_type": "stream",
     "text": [
      "Loading Hydrolight data\n",
      "Loading model: /home/xavier/Projects/Oceanography/Color/IHOP/Emulators/DenseNet_NM4/densenet_NMF_[512, 512, 512, 256]_epochs_2500_p_0.0_lr_0.01.pth\n",
      "Loading MCMC\n",
      "Working on: L23 index=2554\n",
      "All loaded\n"
     ]
    }
   ],
   "source": [
    "#def load_up(in_idx:int, chop_burn = -3000,\n",
    "#            iop_type:str='nmf'):\n",
    "\n",
    "in_idx = 0\n",
    "chop_burn = -3000\n",
    "iop_type = 'nmf'\n",
    "\n",
    "device = torch.device('cuda' if torch.cuda.is_available() else 'cpu')\n",
    "# Chains\n",
    "out_path = os.path.join(\n",
    "    os.getenv('OS_COLOR'), 'IHOP', 'L23',\n",
    "    iop_type.upper())\n",
    "chain_file = 'fit_a_L23_NN_Rs10.npz'\n",
    "       \n",
    "# Load prep\n",
    "if iop_type == 'pca':\n",
    "    lfunc = load_loisel_2023_pca\n",
    "    em_path = os.path.join(os.getenv('OS_COLOR'), 'IHOP', \n",
    "                           'Emulators', 'SimpleNet_PCA')\n",
    "    model_file += '/model_100000.pth'\n",
    "    ncomp = 3\n",
    "elif iop_type == 'nmf':\n",
    "    # Model\n",
    "    em_path = os.path.join(os.getenv('OS_COLOR'), 'IHOP', \n",
    "                           'Emulators')\n",
    "    model_file = os.path.join(\n",
    "        em_path, 'DenseNet_NM4',\n",
    "        'densenet_NMF_[512, 512, 512, 256]_epochs_2500_p_0.0_lr_0.01.pth')\n",
    "    lfunc = load_loisel_2023\n",
    "    ncomp = 4\n",
    "\n",
    "# Do it\n",
    "print(\"Loading Hydrolight data\")\n",
    "ab, Rs, d_a, d_bb = lfunc()\n",
    "print(f\"Loading model: {model_file}\")\n",
    "model = ihop_io.load_nn(model_file)\n",
    "\n",
    "nwave = d_a['wave'].size\n",
    "\n",
    "# MCMC\n",
    "print(\"Loading MCMC\")\n",
    "d = np.load(os.path.join(out_path, chain_file))\n",
    "chains = d['chains']\n",
    "l23_idx = d['idx']\n",
    "obs_Rs = d['obs_Rs']\n",
    "\n",
    "idx = l23_idx[in_idx]\n",
    "print(f'Working on: L23 index={idx}')\n",
    "\n",
    "# Prep\n",
    "if iop_type == 'pca':\n",
    "    rfunc = ihop_pca.reconstruct\n",
    "    wave = d_a['wavelength']\n",
    "elif iop_type == 'nmf':\n",
    "    rfunc = ihop_nmf.reconstruct\n",
    "    wave = d_a['wave']\n",
    "\n",
    "# a\n",
    "Y = chains[in_idx, chop_burn:, :, 0:ncomp].reshape(-1,ncomp)\n",
    "orig, a_recon = rfunc(Y, d_a, idx)\n",
    "a_mean = np.mean(a_recon, axis=0)\n",
    "a_std = np.std(a_recon, axis=0)\n",
    "_, a_pca = rfunc(ab[idx][:ncomp], d_a, idx)\n",
    "\n",
    "print(\"All loaded\")"
   ]
  },
  {
   "cell_type": "code",
   "execution_count": 13,
   "id": "c2740c10-d610-45eb-ad50-54bda0f52c5a",
   "metadata": {},
   "outputs": [
    {
     "data": {
      "text/plain": [
       "(71,)"
      ]
     },
     "execution_count": 13,
     "metadata": {},
     "output_type": "execute_result"
    }
   ],
   "source": [
    "a_pca.shape"
   ]
  },
  {
   "cell_type": "markdown",
   "id": "49369642-c211-48d8-88c0-c8bf28a70fe6",
   "metadata": {},
   "source": [
    "# Straight NMF"
   ]
  },
  {
   "cell_type": "markdown",
   "id": "baeb7eda-0e14-405f-b47f-ea781f569855",
   "metadata": {},
   "source": [
    "## Load"
   ]
  },
  {
   "cell_type": "code",
   "execution_count": 20,
   "id": "e2413592-65ee-4935-be6e-d7ef426c3640",
   "metadata": {},
   "outputs": [],
   "source": [
    "nmf_file = '/home/xavier/Projects/Oceanography/python/ihop/ihop/data/NMF/L23_NMF_a_4.npz'"
   ]
  },
  {
   "cell_type": "code",
   "execution_count": 21,
   "id": "6cea53f5-522b-4f81-930e-52bbc9f5cd94",
   "metadata": {},
   "outputs": [
    {
     "data": {
      "text/plain": [
       "['M', 'coeff', 'spec', 'mask', 'err', 'wave', 'Rs']"
      ]
     },
     "execution_count": 21,
     "metadata": {},
     "output_type": "execute_result"
    }
   ],
   "source": [
    "nmf = np.load(nmf_file)\n",
    "list(nmf.keys())"
   ]
  },
  {
   "cell_type": "code",
   "execution_count": 18,
   "id": "6872d010-d236-4d01-bb44-2c542c6caceb",
   "metadata": {},
   "outputs": [
    {
     "data": {
      "text/plain": [
       "(array([3.46182106e-03, 2.48177440e-03, 1.53537630e-02, 3.66354873e-02,\n",
       "        2.20975756e-06, 3.55264507e-06, 4.11508578e-05, 4.09850767e-03]),\n",
       " 4)"
      ]
     },
     "execution_count": 18,
     "metadata": {},
     "output_type": "execute_result"
    }
   ],
   "source": [
    "ab[idx], ncomp"
   ]
  },
  {
   "cell_type": "code",
   "execution_count": 22,
   "id": "9eab263d-e35a-4571-a511-5dae511952d3",
   "metadata": {},
   "outputs": [
    {
     "data": {
      "text/plain": [
       "2554"
      ]
     },
     "execution_count": 22,
     "metadata": {},
     "output_type": "execute_result"
    }
   ],
   "source": [
    "idx"
   ]
  },
  {
   "cell_type": "code",
   "execution_count": 19,
   "id": "7ff4726b-d20d-4bf8-91a9-2b14a80c622f",
   "metadata": {},
   "outputs": [
    {
     "data": {
      "text/plain": [
       "array([0.01424113, 0.00114554, 0.10619046, 0.06460544])"
      ]
     },
     "execution_count": 19,
     "metadata": {},
     "output_type": "execute_result"
    }
   ],
   "source": [
    "Y[idx,0:ncomp]"
   ]
  },
  {
   "cell_type": "markdown",
   "id": "a693b1e4-aee6-4464-9c80-9c1bcd16ffe5",
   "metadata": {},
   "source": [
    "## True"
   ]
  },
  {
   "cell_type": "code",
   "execution_count": 29,
   "id": "1d60fc89-792e-4333-bf7f-92892e7abfb6",
   "metadata": {},
   "outputs": [],
   "source": [
    "nmf_true = np.dot(nmf['coeff'][idx], nmf['M'])"
   ]
  },
  {
   "cell_type": "code",
   "execution_count": 28,
   "id": "121c845b-51cf-4f9d-817e-e11c3b97bf2f",
   "metadata": {},
   "outputs": [
    {
     "data": {
      "text/plain": [
       "(4, 71)"
      ]
     },
     "execution_count": 28,
     "metadata": {},
     "output_type": "execute_result"
    }
   ],
   "source": [
    "nmf['M'].shape"
   ]
  },
  {
   "cell_type": "markdown",
   "id": "47a87751-cfa6-4aa9-a9a5-82e423ececf8",
   "metadata": {},
   "source": [
    "# Plot"
   ]
  },
  {
   "cell_type": "code",
   "execution_count": 30,
   "id": "d69e7683-d01f-4dd4-8624-6e86fb5bfd77",
   "metadata": {},
   "outputs": [
    {
     "data": {
      "application/vnd.jupyter.widget-view+json": {
       "model_id": "15382d14b08d4cb19098eed4006b0673",
       "version_major": 2,
       "version_minor": 0
      },
      "image/png": "[encoded data removed]",
      "text/html": [
       "\n",
       "            <div style=\"display: inline-block;\">\n",
       "                <div class=\"jupyter-widgets widget-label\" style=\"text-align: center;\">\n",
       "                    Figure\n",
       "                </div>\n",
       "                <img src='data:image/png;base64,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' width=600.0/>\n",
       "            </div>\n",
       "        "
      ],
      "text/plain": [
       "Canvas(toolbar=Toolbar(toolitems=[('Home', 'Reset original view', 'home', 'home'), ('Back', 'Back to previous …"
      ]
     },
     "metadata": {},
     "output_type": "display_data"
    }
   ],
   "source": [
    "fig = plt.figure(figsize=(6,6))\n",
    "plt.clf()\n",
    "ax = plt.gca()\n",
    "\n",
    "#\n",
    "ax.plot(wave, orig, 'ko', label='True')\n",
    "ax.plot(wave, a_recon[idx], 'b-', label='Fit')\n",
    "#\n",
    "ax.plot(wave, nmf['spec'][idx], 'g:')\n",
    "ax.plot(wave, nmf_true, 'g--', label='True NMF')\n",
    "\n",
    "plt.show()"
   ]
  },
  {
   "cell_type": "code",
   "execution_count": null,
   "id": "ff328cbd-4271-4eea-9d60-4d5ff3d173cd",
   "metadata": {},
   "outputs": [],
   "source": []
  }
 ],
 "metadata": {
  "kernelspec": {
   "display_name": "Python 3 (ipykernel)",
   "language": "python",
   "name": "python3"
  },
  "language_info": {
   "codemirror_mode": {
    "name": "ipython",
    "version": 3
   },
   "file_extension": ".py",
   "mimetype": "text/x-python",
   "name": "python",
   "nbconvert_exporter": "python",
   "pygments_lexer": "ipython3",
   "version": "3.10.10"
  }
 },
 "nbformat": 4,
 "nbformat_minor": 5
}
