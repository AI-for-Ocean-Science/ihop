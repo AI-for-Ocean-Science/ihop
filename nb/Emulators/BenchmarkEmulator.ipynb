{
 "cells": [
  {
   "cell_type": "markdown",
   "id": "f3857441-1d01-4aaf-acc0-c529b8a24a4b",
   "metadata": {},
   "source": [
    "# Benchmark Emulator"
   ]
  },
  {
   "cell_type": "code",
   "execution_count": 10,
   "id": "c882987d-2939-42e5-92c0-ec1d222b4178",
   "metadata": {},
   "outputs": [],
   "source": [
    "# imports\n",
    "from importlib import reload\n",
    "\n",
    "import numpy as np\n",
    "import torch\n",
    "\n",
    "from oceancolor.ihop import nn\n",
    "from oceancolor.ihop.nn import SimpleNet\n",
    "from oceancolor.ihop import io as ihop_io"
   ]
  },
  {
   "cell_type": "code",
   "execution_count": 6,
   "id": "09d2f189-ba77-4acf-ab2d-46dce3aed474",
   "metadata": {},
   "outputs": [
    {
     "name": "stdout",
     "output_type": "stream",
     "text": [
      "Created `%t` as an alias for `%timeit`.\n",
      "Created `%%t` as an alias for `%%timeit`.\n"
     ]
    }
   ],
   "source": [
    "%alias_magic t timeit"
   ]
  },
  {
   "cell_type": "markdown",
   "id": "acd0c663-4221-4af0-947b-1822bf712c9d",
   "metadata": {},
   "source": [
    "# Load up"
   ]
  },
  {
   "cell_type": "code",
   "execution_count": 5,
   "id": "b71b8565-46e8-4d7d-8bce-f9a8ad733336",
   "metadata": {},
   "outputs": [],
   "source": [
    "reload(ihop_io)\n",
    "model = ihop_io.load_nn('model_100000')"
   ]
  },
  {
   "cell_type": "markdown",
   "id": "b384bda2-d16a-49ca-a408-bcb58b05b297",
   "metadata": {},
   "source": [
    "# Benchmark"
   ]
  },
  {
   "cell_type": "code",
   "execution_count": 8,
   "id": "6375ac47-cad6-46ef-9879-5b78a2f6324e",
   "metadata": {},
   "outputs": [],
   "source": [
    "device = torch.device('cuda' if torch.cuda.is_available() else 'cpu')"
   ]
  },
  {
   "cell_type": "code",
   "execution_count": 12,
   "id": "00c3b733-3b8e-4b47-8ff4-a2a5034461fe",
   "metadata": {},
   "outputs": [
    {
     "name": "stdout",
     "output_type": "stream",
     "text": [
      "72.1 µs ± 249 ns per loop (mean ± std. dev. of 7 runs, 10,000 loops each)\n"
     ]
    }
   ],
   "source": [
    "%t tmp = model.prediction(np.array([0.1, 0.2, 0.3, 0.4, 0.5, 0.6]), device)"
   ]
  },
  {
   "cell_type": "code",
   "execution_count": null,
   "id": "1d4b736d-709b-4b0a-8722-6a5f25a19a6f",
   "metadata": {},
   "outputs": [],
   "source": []
  }
 ],
 "metadata": {
  "kernelspec": {
   "display_name": "Python 3 (ipykernel)",
   "language": "python",
   "name": "python3"
  },
  "language_info": {
   "codemirror_mode": {
    "name": "ipython",
    "version": 3
   },
   "file_extension": ".py",
   "mimetype": "text/x-python",
   "name": "python",
   "nbconvert_exporter": "python",
   "pygments_lexer": "ipython3",
   "version": "3.10.10"
  }
 },
 "nbformat": 4,
 "nbformat_minor": 5
}
