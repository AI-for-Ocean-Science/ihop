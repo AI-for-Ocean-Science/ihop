{
 "cells": [
  {
   "cell_type": "markdown",
   "id": "684f271d-9650-41c5-9427-0ecdbb657194",
   "metadata": {},
   "source": [
    "# Build up the NMF"
   ]
  },
  {
   "cell_type": "code",
   "execution_count": 1,
   "id": "5938e11f-1359-4c25-b5ab-56ded24f6c28",
   "metadata": {},
   "outputs": [],
   "source": [
    "# imports\n",
    "import numpy as np\n",
    "from matplotlib import pyplot as plt\n",
    "\n",
    "import seaborn as sns\n",
    "\n",
    "from NonnegMFPy import nmf\n",
    "\n",
    "#from ihip.ihop import io as ihop_io\n",
    "from ihop.hydrolight import loisel23\n",
    "from oceancolor.iop import cross"
   ]
  },
  {
   "cell_type": "code",
   "execution_count": 2,
   "id": "95d4abd4-8165-44eb-b011-ad0ad61b28bc",
   "metadata": {},
   "outputs": [],
   "source": [
    "%matplotlib ipympl"
   ]
  },
  {
   "cell_type": "markdown",
   "id": "41f4729f-7de8-408a-a7bc-1b60d517bfc7",
   "metadata": {},
   "source": [
    "# Load"
   ]
  },
  {
   "cell_type": "markdown",
   "id": "e95c5454-dba6-4cda-b85f-8d9ab25a2131",
   "metadata": {},
   "source": [
    "## LS23"
   ]
  },
  {
   "cell_type": "code",
   "execution_count": 3,
   "id": "4e31ac9f-c889-42f7-aa73-4bc40eecce21",
   "metadata": {},
   "outputs": [],
   "source": [
    "X=4\n",
    "Y=0\n",
    "ds = loisel23.load_ds(X, Y)"
   ]
  },
  {
   "cell_type": "code",
   "execution_count": 4,
   "id": "6d6375ac-ec4e-424f-834f-20dad153c3e4",
   "metadata": {},
   "outputs": [],
   "source": [
    "spec = ds['a'].data\n",
    "wave = ds.Lambda.data"
   ]
  },
  {
   "cell_type": "markdown",
   "id": "f61bc389-77e8-4b1c-80aa-bdc7f50f2c40",
   "metadata": {},
   "source": [
    "## Water"
   ]
  },
  {
   "cell_type": "code",
   "execution_count": 5,
   "id": "a83a1cc9-8367-4c7d-8826-0f8684cae056",
   "metadata": {},
   "outputs": [],
   "source": [
    "a_w = cross.a_water(wave, data='IOCCG')"
   ]
  },
  {
   "cell_type": "markdown",
   "id": "79fa1126-35b4-49a6-9613-ded3d1370103",
   "metadata": {},
   "source": [
    "# Here we go"
   ]
  },
  {
   "cell_type": "code",
   "execution_count": null,
   "id": "794b7289-f9ab-45ed-965d-acdb39ce2aed",
   "metadata": {},
   "outputs": [],
   "source": []
  }
 ],
 "metadata": {
  "kernelspec": {
   "display_name": "Python 3 (ipykernel)",
   "language": "python",
   "name": "python3"
  },
  "language_info": {
   "codemirror_mode": {
    "name": "ipython",
    "version": 3
   },
   "file_extension": ".py",
   "mimetype": "text/x-python",
   "name": "python",
   "nbconvert_exporter": "python",
   "pygments_lexer": "ipython3",
   "version": "3.10.10"
  }
 },
 "nbformat": 4,
 "nbformat_minor": 5
}
