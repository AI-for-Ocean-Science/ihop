{
 "cells": [
  {
   "cell_type": "markdown",
   "id": "c5ac44ca-92d9-4616-95ed-17017924f5a6",
   "metadata": {},
   "source": [
    "# NMF one-by-one"
   ]
  },
  {
   "cell_type": "code",
   "execution_count": 1,
   "id": "4c8558b3-1f79-41dc-9abf-6dad1d73d989",
   "metadata": {},
   "outputs": [],
   "source": [
    "# imports\n",
    "import os\n",
    "import numpy as np\n",
    "from matplotlib import pyplot as plt\n",
    "from importlib import resources\n",
    "\n",
    "import seaborn as sns\n",
    "\n",
    "from NonnegMFPy import nmf\n",
    "\n",
    "#from ihip.ihop import io as ihop_io\n",
    "from ihop.hydrolight import loisel23\n",
    "from oceancolor.iop import cross\n",
    "\n",
    "from astropy.io import fits\n",
    "\n",
    "import nmf_imaging "
   ]
  },
  {
   "cell_type": "code",
   "execution_count": 2,
   "id": "83036ece-1acb-44db-9d3e-b8f4de30f930",
   "metadata": {},
   "outputs": [],
   "source": [
    "%matplotlib ipympl"
   ]
  },
  {
   "cell_type": "markdown",
   "id": "6ed6b384-eee7-4123-be2a-10ebbdbce85b",
   "metadata": {},
   "source": [
    "# Load up data"
   ]
  },
  {
   "cell_type": "code",
   "execution_count": 3,
   "id": "65ce5fbb-59b1-4d51-a0a2-ce8c38cdb00a",
   "metadata": {},
   "outputs": [],
   "source": [
    "X=4\n",
    "Y=0\n",
    "ds = loisel23.load_ds(X, Y)"
   ]
  },
  {
   "cell_type": "code",
   "execution_count": 4,
   "id": "86d404ee-40d3-46b6-98b8-4b907e0d7ae1",
   "metadata": {},
   "outputs": [
    {
     "data": {
      "text/plain": [
       "(3320, 81)"
      ]
     },
     "execution_count": 4,
     "metadata": {},
     "output_type": "execute_result"
    }
   ],
   "source": [
    "spec = ds['a'].data\n",
    "wave = ds.Lambda.data\n",
    "spec.shape"
   ]
  },
  {
   "cell_type": "markdown",
   "id": "339c38d2-0a48-4714-8125-b983fcddf36f",
   "metadata": {},
   "source": [
    "## Cut"
   ]
  },
  {
   "cell_type": "code",
   "execution_count": 5,
   "id": "0f57dd2b-8ea7-4c80-a995-18bbcc95fa54",
   "metadata": {},
   "outputs": [],
   "source": [
    "cut = wave >= 400.\n",
    "spec = spec[:,cut]\n",
    "wave = wave[cut]"
   ]
  },
  {
   "cell_type": "markdown",
   "id": "f297191b-4bc5-4889-8f25-1586aba8572b",
   "metadata": {},
   "source": [
    "## Remove water"
   ]
  },
  {
   "cell_type": "code",
   "execution_count": 6,
   "id": "e2969d06-b265-4b96-88be-24e17695d6a0",
   "metadata": {},
   "outputs": [],
   "source": [
    "a_w = cross.a_water(wave, data='IOCCG')\n",
    "spec_nw = spec - np.outer(np.ones(3320), a_w)"
   ]
  },
  {
   "cell_type": "markdown",
   "id": "9009417f-1a7d-4aa2-9e4f-16518205a13a",
   "metadata": {},
   "source": [
    "## Reshape"
   ]
  },
  {
   "cell_type": "code",
   "execution_count": 7,
   "id": "6a697f82-fe64-4976-9d6e-ad558a3da751",
   "metadata": {},
   "outputs": [
    {
     "data": {
      "text/plain": [
       "(3320, 71, 1)"
      ]
     },
     "execution_count": 7,
     "metadata": {},
     "output_type": "execute_result"
    }
   ],
   "source": [
    "spec_nw = np.reshape(spec_nw, (spec_nw.shape[0], \n",
    "                     spec_nw.shape[1], 1))\n",
    "spec_nw.shape"
   ]
  },
  {
   "cell_type": "markdown",
   "id": "de683f6a-a53a-47da-adfc-11c533ee8c16",
   "metadata": {},
   "source": [
    "# Run me"
   ]
  },
  {
   "cell_type": "markdown",
   "id": "8dd6b80b-16f7-4f81-beba-a0a732c89b2b",
   "metadata": {},
   "source": [
    "## Mask"
   ]
  },
  {
   "cell_type": "code",
   "execution_count": 8,
   "id": "a379a92a-f817-44c8-b53c-1d0bfb7080d6",
   "metadata": {},
   "outputs": [
    {
     "data": {
      "text/plain": [
       "(3320, 71, 1)"
      ]
     },
     "execution_count": 8,
     "metadata": {},
     "output_type": "execute_result"
    }
   ],
   "source": [
    "mask = (spec_nw >= 0.).astype(int)\n",
    "mask.shape"
   ]
  },
  {
   "cell_type": "markdown",
   "id": "e9ad4567-0e8f-4f62-bb97-33096e67d725",
   "metadata": {},
   "source": [
    "## Error"
   ]
  },
  {
   "cell_type": "code",
   "execution_count": 9,
   "id": "c2c7f7d6-8da0-4564-b0c3-a19f1bc3e9f8",
   "metadata": {},
   "outputs": [],
   "source": [
    "err = np.ones_like(mask)*0.05"
   ]
  },
  {
   "cell_type": "markdown",
   "id": "ca281f2f-9060-4f8c-99b9-9813b8538129",
   "metadata": {},
   "source": [
    "## Let's go"
   ]
  },
  {
   "cell_type": "code",
   "execution_count": 10,
   "id": "9fcb0809-cc5d-4644-bc00-16afb01c28ea",
   "metadata": {},
   "outputs": [],
   "source": [
    "path = os.path.join(resources.files('ihop'), \n",
    "                    'data', 'NMF')\n",
    "outroot = os.path.join(path, 'L23_NMF_4')"
   ]
  },
  {
   "cell_type": "code",
   "execution_count": 12,
   "id": "1455fc22-a75a-44c6-ba93-8596edcb2dd9",
   "metadata": {},
   "outputs": [
    {
     "name": "stdout",
     "output_type": "stream",
     "text": [
      "Building components one by one...\n",
      "\t path_save provided, you might want to load data and continue previous component calculation\n",
      "\t\t loading from /home/xavier/Projects/Oceanography/python/ihop/ihop/data/NMF/L23_NMF_4_comp.fits for components.\n",
      "\t\t /home/xavier/Projects/Oceanography/python/ihop/ihop/data/NMF/L23_NMF_4_comp.fits does not exist, calculating from scratch.\n",
      "\t1 of 4\n",
      "Took 0.001 minutes to reach current solution.\n",
      "\t\t\t Calculation for 1 components done, overwriting raw 2D component matrix at /home/xavier/Projects/Oceanography/python/ihop/ihop/data/NMF/L23_NMF_4_comp.fits\n",
      "\t\t\t Calculation for 1 components done, overwriting raw 2D coefficient matrix at /home/xavier/Projects/Oceanography/python/ihop/ihop/data/NMF/L23_NMF_4_coef.fits\n",
      "\t2 of 4\n",
      "Took 0.014 minutes to reach current solution.\n",
      "\t\t\t Calculation for 2 components done, overwriting raw 2D component matrix at /home/xavier/Projects/Oceanography/python/ihop/ihop/data/NMF/L23_NMF_4_comp.fits\n",
      "\t\t\t Calculation for 2 components done, overwriting raw 2D coefficient matrix at /home/xavier/Projects/Oceanography/python/ihop/ihop/data/NMF/L23_NMF_4_coef.fits\n",
      "\t3 of 4\n",
      "Iteration in re-initialization reaches maximum number = 1000\n",
      "Took 0.054 minutes to reach current solution.\n",
      "\t\t\t Calculation for 3 components done, overwriting raw 2D component matrix at /home/xavier/Projects/Oceanography/python/ihop/ihop/data/NMF/L23_NMF_4_comp.fits\n",
      "\t\t\t Calculation for 3 components done, overwriting raw 2D coefficient matrix at /home/xavier/Projects/Oceanography/python/ihop/ihop/data/NMF/L23_NMF_4_coef.fits\n",
      "\t4 of 4\n",
      "Iteration in re-initialization reaches maximum number = 1000\n",
      "Took 0.053 minutes to reach current solution.\n",
      "\t\t\t Calculation for 4 components done, overwriting raw 2D component matrix at /home/xavier/Projects/Oceanography/python/ihop/ihop/data/NMF/L23_NMF_4_comp.fits\n",
      "\t\t\t Calculation for 4 components done, overwriting raw 2D coefficient matrix at /home/xavier/Projects/Oceanography/python/ihop/ihop/data/NMF/L23_NMF_4_coef.fits\n"
     ]
    },
    {
     "name": "stderr",
     "output_type": "stream",
     "text": [
      "/home/xavier/Python/nmf_imaging/nmf_imaging.py:309: RuntimeWarning: invalid value encountered in divide\n",
      "  components = (components.T/np.sqrt(np.nansum(components**2, axis = (1, 2))).T).T\n"
     ]
    }
   ],
   "source": [
    "comps = nmf_imaging.NMFcomponents(ref=spec_nw, mask=mask, ref_err=err, n_components=4,\n",
    "                          path_save=outroot, oneByOne=True)"
   ]
  },
  {
   "cell_type": "markdown",
   "id": "bdeede6e-7e83-4951-9639-f924e26ac382",
   "metadata": {},
   "source": [
    "# Load em"
   ]
  },
  {
   "cell_type": "code",
   "execution_count": 13,
   "id": "16013265-c5bd-42e4-a8ad-8fbd02b717b8",
   "metadata": {},
   "outputs": [
    {
     "name": "stdout",
     "output_type": "stream",
     "text": [
      "Filename: /home/xavier/Projects/Oceanography/python/ihop/ihop/data/NMF/L23_NMF_4_comp.fits\n",
      "No.    Name      Ver    Type      Cards   Dimensions   Format\n",
      "  0  PRIMARY       1 PrimaryHDU       6   (4, 71)   float64   \n"
     ]
    }
   ],
   "source": [
    "hdul = fits.open(outroot+'_comp.fits')\n",
    "hdul.info()"
   ]
  },
  {
   "cell_type": "markdown",
   "id": "3f254d85-5440-4302-916f-6ca0d51f342a",
   "metadata": {},
   "source": [
    "## Plot em"
   ]
  },
  {
   "cell_type": "code",
   "execution_count": 14,
   "id": "00e39f96-652e-46dc-accf-a0ad08853234",
   "metadata": {},
   "outputs": [
    {
     "data": {
      "text/plain": [
       "(4, 71)"
      ]
     },
     "execution_count": 14,
     "metadata": {},
     "output_type": "execute_result"
    }
   ],
   "source": [
    "M = hdul[0].data.T\n",
    "M.shape"
   ]
  },
  {
   "cell_type": "code",
   "execution_count": 15,
   "id": "b11b560e-5892-4337-932e-c465920c08be",
   "metadata": {},
   "outputs": [
    {
     "data": {
      "application/vnd.jupyter.widget-view+json": {
       "model_id": "3f3c85d7ba704e799d216fee27611955",
       "version_major": 2,
       "version_minor": 0
      },
      "image/png": "[encoded data removed]",
      "text/html": [
       "\n",
       "            <div style=\"display: inline-block;\">\n",
       "                <div class=\"jupyter-widgets widget-label\" style=\"text-align: center;\">\n",
       "                    Figure\n",
       "                </div>\n",
       "                <img src='data:image/png;base64,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' width=700.0/>\n",
       "            </div>\n",
       "        "
      ],
      "text/plain": [
       "Canvas(toolbar=Toolbar(toolitems=[('Home', 'Reset original view', 'home', 'home'), ('Back', 'Back to previous …"
      ]
     },
     "metadata": {},
     "output_type": "display_data"
    }
   ],
   "source": [
    "#M = g.W.T\n",
    "#wave = ds.Lambda.data\n",
    "#\n",
    "fig = plt.figure(figsize=(7,5))\n",
    "\n",
    "plt.clf()\n",
    "ax = plt.gca()\n",
    "for ss in range(M.shape[0]):\n",
    "    ax.plot(wave,M[ss], label=r'$\\xi_'+f'{ss}'+'$')\n",
    "#\n",
    "ax.set_xlabel('Wavelength (nm)')\n",
    "ax.set_ylabel('Basis vector')\n",
    "ax.legend()\n",
    "#\n",
    "plt.show()"
   ]
  },
  {
   "cell_type": "markdown",
   "id": "12b4766e-0d8d-4743-a406-231735b280b9",
   "metadata": {},
   "source": [
    "# Coeff"
   ]
  },
  {
   "cell_type": "code",
   "execution_count": 18,
   "id": "ba97b9ad-88d9-46e4-b690-00ef022880cc",
   "metadata": {},
   "outputs": [],
   "source": [
    "hdul2 = fits.open(outroot+'_coef.fits')"
   ]
  },
  {
   "cell_type": "code",
   "execution_count": 20,
   "id": "b1b6a372-41e6-45ec-8b40-e3f2e6a0a12e",
   "metadata": {},
   "outputs": [
    {
     "name": "stdout",
     "output_type": "stream",
     "text": [
      "Filename: /home/xavier/Projects/Oceanography/python/ihop/ihop/data/NMF/L23_NMF_4_coef.fits\n",
      "No.    Name      Ver    Type      Cards   Dimensions   Format\n",
      "  0  PRIMARY       1 PrimaryHDU       6   (3320, 4)   float64   \n"
     ]
    }
   ],
   "source": [
    "hdul2.info()\n",
    "coeff = hdul2[0].data.T"
   ]
  },
  {
   "cell_type": "markdown",
   "id": "19514363-a93e-4b71-8a95-eeab7fc5b085",
   "metadata": {},
   "source": [
    "# Recon"
   ]
  },
  {
   "cell_type": "code",
   "execution_count": 22,
   "id": "90413946-dd89-4675-a3e2-d8e186dc7c63",
   "metadata": {},
   "outputs": [
    {
     "data": {
      "text/plain": [
       "(3320, 71)"
      ]
     },
     "execution_count": 22,
     "metadata": {},
     "output_type": "execute_result"
    }
   ],
   "source": [
    "recon = np.dot(coeff, M)\n",
    "recon.shape"
   ]
  },
  {
   "cell_type": "code",
   "execution_count": 23,
   "id": "e3cd3825-5fe1-4499-b855-375e425cd4a9",
   "metadata": {},
   "outputs": [
    {
     "data": {
      "text/plain": [
       "(3320, 4)"
      ]
     },
     "execution_count": 23,
     "metadata": {},
     "output_type": "execute_result"
    }
   ],
   "source": [
    "coeff.shape"
   ]
  },
  {
   "cell_type": "code",
   "execution_count": null,
   "id": "39946a4c-aff5-4c14-aa09-bc87f364d91c",
   "metadata": {},
   "outputs": [],
   "source": []
  }
 ],
 "metadata": {
  "kernelspec": {
   "display_name": "Python 3 (ipykernel)",
   "language": "python",
   "name": "python3"
  },
  "language_info": {
   "codemirror_mode": {
    "name": "ipython",
    "version": 3
   },
   "file_extension": ".py",
   "mimetype": "text/x-python",
   "name": "python",
   "nbconvert_exporter": "python",
   "pygments_lexer": "ipython3",
   "version": "3.10.10"
  }
 },
 "nbformat": 4,
 "nbformat_minor": 5
}
