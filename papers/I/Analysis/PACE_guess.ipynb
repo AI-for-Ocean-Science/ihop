{
 "cells": [
  {
   "cell_type": "markdown",
   "id": "55d6b910-b426-4fd1-93f1-ebb3c7c0ae8f",
   "metadata": {},
   "source": [
    "# Make a Guess at PACE values"
   ]
  },
  {
   "cell_type": "code",
   "execution_count": 1,
   "id": "608494f9-ef19-44c5-9a9f-4bbb34a174f6",
   "metadata": {},
   "outputs": [],
   "source": [
    "#imports\n",
    "from importlib import reload\n",
    "\n",
    "import os\n",
    "import numpy as np\n",
    "import xarray\n",
    "\n",
    "import matplotlib.pyplot as plt\n",
    "import matplotlib.gridspec as gridspec\n",
    "\n",
    "from datetime import datetime, time\n",
    "\n",
    "import pandas\n",
    "import seaborn as sns\n",
    "\n",
    "from oceancolor.pace import io as pace_io\n",
    "from oceancolor.utils import spectra\n",
    "\n",
    "from cnmf import apply as cnmf_apply\n",
    "\n",
    "from ihop import io as ihop_io\n",
    "from ihop.iops import io as iops_io"
   ]
  },
  {
   "cell_type": "code",
   "execution_count": 2,
   "id": "3208bc3a-7884-4ae6-a2ba-0c80d9f5d46e",
   "metadata": {},
   "outputs": [],
   "source": [
    "%matplotlib ipympl"
   ]
  },
  {
   "cell_type": "markdown",
   "id": "fcc34054-a892-4038-b552-3b269828790e",
   "metadata": {},
   "source": [
    "# Load"
   ]
  },
  {
   "cell_type": "markdown",
   "id": "6bec157e-cf60-4aa7-a9c8-e2eccae485b9",
   "metadata": {},
   "source": [
    "## PACE"
   ]
  },
  {
   "cell_type": "code",
   "execution_count": 3,
   "id": "8549ffe7-3d42-4948-91e7-f40465222186",
   "metadata": {},
   "outputs": [],
   "source": [
    "pfile = os.path.join(os.getenv('OS_COLOR'), 'data', 'PACE', 'early',\n",
    "                     'PACE_OCI.20240413T175656.L2.OC_AOP.V1_0_0.NRT.nc')"
   ]
  },
  {
   "cell_type": "code",
   "execution_count": 4,
   "id": "f7c23f3c-e7ae-4bab-b299-d7d955dfe2d3",
   "metadata": {},
   "outputs": [],
   "source": [
    "reload(pace_io)\n",
    "xds, flags = pace_io.load_oci_l2(pfile)"
   ]
  },
  {
   "cell_type": "code",
   "execution_count": 5,
   "id": "047ac651-c166-41f6-805b-af216bbf1335",
   "metadata": {},
   "outputs": [
    {
     "data": {
      "text/html": [
       "<div><svg style=\"position: absolute; width: 0; height: 0; overflow: hidden\">\n",
       "<defs>\n",
       "<symbol id=\"icon-database\" viewBox=\"0 0 32 32\">\n",
       "<path d=\"M16 0c-8.837 0-16 2.239-16 5v4c0 2.761 7.163 5 16 5s16-2.239 16-5v-4c0-2.761-7.163-5-16-5z\"></path>\n",
       "<path d=\"M16 17c-8.837 0-16-2.239-16-5v6c0 2.761 7.163 5 16 5s16-2.239 16-5v-6c0 2.761-7.163 5-16 5z\"></path>\n",
       "<path d=\"M16 26c-8.837 0-16-2.239-16-5v6c0 2.761 7.163 5 16 5s16-2.239 16-5v-6c0 2.761-7.163 5-16 5z\"></path>\n",
       "</symbol>\n",
       "<symbol id=\"icon-file-text2\" viewBox=\"0 0 32 32\">\n",
       "<path d=\"M28.681 7.159c-0.694-0.947-1.662-2.053-2.724-3.116s-2.169-2.030-3.116-2.724c-1.612-1.182-2.393-1.319-2.841-1.319h-15.5c-1.378 0-2.5 1.121-2.5 2.5v27c0 1.378 1.122 2.5 2.5 2.5h23c1.378 0 2.5-1.122 2.5-2.5v-19.5c0-0.448-0.137-1.23-1.319-2.841zM24.543 5.457c0.959 0.959 1.712 1.825 2.268 2.543h-4.811v-4.811c0.718 0.556 1.584 1.309 2.543 2.268zM28 29.5c0 0.271-0.229 0.5-0.5 0.5h-23c-0.271 0-0.5-0.229-0.5-0.5v-27c0-0.271 0.229-0.5 0.5-0.5 0 0 15.499-0 15.5 0v7c0 0.552 0.448 1 1 1h7v19.5z\"></path>\n",
       "<path d=\"M23 26h-14c-0.552 0-1-0.448-1-1s0.448-1 1-1h14c0.552 0 1 0.448 1 1s-0.448 1-1 1z\"></path>\n",
       "<path d=\"M23 22h-14c-0.552 0-1-0.448-1-1s0.448-1 1-1h14c0.552 0 1 0.448 1 1s-0.448 1-1 1z\"></path>\n",
       "<path d=\"M23 18h-14c-0.552 0-1-0.448-1-1s0.448-1 1-1h14c0.552 0 1 0.448 1 1s-0.448 1-1 1z\"></path>\n",
       "</symbol>\n",
       "</defs>\n",
       "</svg>\n",
       "<style>/* CSS stylesheet for displaying xarray objects in jupyterlab.\n",
       " *\n",
       " */\n",
       "\n",
       ":root {\n",
       "  --xr-font-color0: var(--jp-content-font-color0, rgba(0, 0, 0, 1));\n",
       "  --xr-font-color2: var(--jp-content-font-color2, rgba(0, 0, 0, 0.54));\n",
       "  --xr-font-color3: var(--jp-content-font-color3, rgba(0, 0, 0, 0.38));\n",
       "  --xr-border-color: var(--jp-border-color2, #e0e0e0);\n",
       "  --xr-disabled-color: var(--jp-layout-color3, #bdbdbd);\n",
       "  --xr-background-color: var(--jp-layout-color0, white);\n",
       "  --xr-background-color-row-even: var(--jp-layout-color1, white);\n",
       "  --xr-background-color-row-odd: var(--jp-layout-color2, #eeeeee);\n",
       "}\n",
       "\n",
       "html[theme=dark],\n",
       "body[data-theme=dark],\n",
       "body.vscode-dark {\n",
       "  --xr-font-color0: rgba(255, 255, 255, 1);\n",
       "  --xr-font-color2: rgba(255, 255, 255, 0.54);\n",
       "  --xr-font-color3: rgba(255, 255, 255, 0.38);\n",
       "  --xr-border-color: #1F1F1F;\n",
       "  --xr-disabled-color: #515151;\n",
       "  --xr-background-color: #111111;\n",
       "  --xr-background-color-row-even: #111111;\n",
       "  --xr-background-color-row-odd: #313131;\n",
       "}\n",
       "\n",
       ".xr-wrap {\n",
       "  display: block !important;\n",
       "  min-width: 300px;\n",
       "  max-width: 700px;\n",
       "}\n",
       "\n",
       ".xr-text-repr-fallback {\n",
       "  /* fallback to plain text repr when CSS is not injected (untrusted notebook) */\n",
       "  display: none;\n",
       "}\n",
       "\n",
       ".xr-header {\n",
       "  padding-top: 6px;\n",
       "  padding-bottom: 6px;\n",
       "  margin-bottom: 4px;\n",
       "  border-bottom: solid 1px var(--xr-border-color);\n",
       "}\n",
       "\n",
       ".xr-header > div,\n",
       ".xr-header > ul {\n",
       "  display: inline;\n",
       "  margin-top: 0;\n",
       "  margin-bottom: 0;\n",
       "}\n",
       "\n",
       ".xr-obj-type,\n",
       ".xr-array-name {\n",
       "  margin-left: 2px;\n",
       "  margin-right: 10px;\n",
       "}\n",
       "\n",
       ".xr-obj-type {\n",
       "  color: var(--xr-font-color2);\n",
       "}\n",
       "\n",
       ".xr-sections {\n",
       "  padding-left: 0 !important;\n",
       "  display: grid;\n",
       "  grid-template-columns: 150px auto auto 1fr 20px 20px;\n",
       "}\n",
       "\n",
       ".xr-section-item {\n",
       "  display: contents;\n",
       "}\n",
       "\n",
       ".xr-section-item input {\n",
       "  display: none;\n",
       "}\n",
       "\n",
       ".xr-section-item input + label {\n",
       "  color: var(--xr-disabled-color);\n",
       "}\n",
       "\n",
       ".xr-section-item input:enabled + label {\n",
       "  cursor: pointer;\n",
       "  color: var(--xr-font-color2);\n",
       "}\n",
       "\n",
       ".xr-section-item input:enabled + label:hover {\n",
       "  color: var(--xr-font-color0);\n",
       "}\n",
       "\n",
       ".xr-section-summary {\n",
       "  grid-column: 1;\n",
       "  color: var(--xr-font-color2);\n",
       "  font-weight: 500;\n",
       "}\n",
       "\n",
       ".xr-section-summary > span {\n",
       "  display: inline-block;\n",
       "  padding-left: 0.5em;\n",
       "}\n",
       "\n",
       ".xr-section-summary-in:disabled + label {\n",
       "  color: var(--xr-font-color2);\n",
       "}\n",
       "\n",
       ".xr-section-summary-in + label:before {\n",
       "  display: inline-block;\n",
       "  content: '►';\n",
       "  font-size: 11px;\n",
       "  width: 15px;\n",
       "  text-align: center;\n",
       "}\n",
       "\n",
       ".xr-section-summary-in:disabled + label:before {\n",
       "  color: var(--xr-disabled-color);\n",
       "}\n",
       "\n",
       ".xr-section-summary-in:checked + label:before {\n",
       "  content: '▼';\n",
       "}\n",
       "\n",
       ".xr-section-summary-in:checked + label > span {\n",
       "  display: none;\n",
       "}\n",
       "\n",
       ".xr-section-summary,\n",
       ".xr-section-inline-details {\n",
       "  padding-top: 4px;\n",
       "  padding-bottom: 4px;\n",
       "}\n",
       "\n",
       ".xr-section-inline-details {\n",
       "  grid-column: 2 / -1;\n",
       "}\n",
       "\n",
       ".xr-section-details {\n",
       "  display: none;\n",
       "  grid-column: 1 / -1;\n",
       "  margin-bottom: 5px;\n",
       "}\n",
       "\n",
       ".xr-section-summary-in:checked ~ .xr-section-details {\n",
       "  display: contents;\n",
       "}\n",
       "\n",
       ".xr-array-wrap {\n",
       "  grid-column: 1 / -1;\n",
       "  display: grid;\n",
       "  grid-template-columns: 20px auto;\n",
       "}\n",
       "\n",
       ".xr-array-wrap > label {\n",
       "  grid-column: 1;\n",
       "  vertical-align: top;\n",
       "}\n",
       "\n",
       ".xr-preview {\n",
       "  color: var(--xr-font-color3);\n",
       "}\n",
       "\n",
       ".xr-array-preview,\n",
       ".xr-array-data {\n",
       "  padding: 0 5px !important;\n",
       "  grid-column: 2;\n",
       "}\n",
       "\n",
       ".xr-array-data,\n",
       ".xr-array-in:checked ~ .xr-array-preview {\n",
       "  display: none;\n",
       "}\n",
       "\n",
       ".xr-array-in:checked ~ .xr-array-data,\n",
       ".xr-array-preview {\n",
       "  display: inline-block;\n",
       "}\n",
       "\n",
       ".xr-dim-list {\n",
       "  display: inline-block !important;\n",
       "  list-style: none;\n",
       "  padding: 0 !important;\n",
       "  margin: 0;\n",
       "}\n",
       "\n",
       ".xr-dim-list li {\n",
       "  display: inline-block;\n",
       "  padding: 0;\n",
       "  margin: 0;\n",
       "}\n",
       "\n",
       ".xr-dim-list:before {\n",
       "  content: '(';\n",
       "}\n",
       "\n",
       ".xr-dim-list:after {\n",
       "  content: ')';\n",
       "}\n",
       "\n",
       ".xr-dim-list li:not(:last-child):after {\n",
       "  content: ',';\n",
       "  padding-right: 5px;\n",
       "}\n",
       "\n",
       ".xr-has-index {\n",
       "  font-weight: bold;\n",
       "}\n",
       "\n",
       ".xr-var-list,\n",
       ".xr-var-item {\n",
       "  display: contents;\n",
       "}\n",
       "\n",
       ".xr-var-item > div,\n",
       ".xr-var-item label,\n",
       ".xr-var-item > .xr-var-name span {\n",
       "  background-color: var(--xr-background-color-row-even);\n",
       "  margin-bottom: 0;\n",
       "}\n",
       "\n",
       ".xr-var-item > .xr-var-name:hover span {\n",
       "  padding-right: 5px;\n",
       "}\n",
       "\n",
       ".xr-var-list > li:nth-child(odd) > div,\n",
       ".xr-var-list > li:nth-child(odd) > label,\n",
       ".xr-var-list > li:nth-child(odd) > .xr-var-name span {\n",
       "  background-color: var(--xr-background-color-row-odd);\n",
       "}\n",
       "\n",
       ".xr-var-name {\n",
       "  grid-column: 1;\n",
       "}\n",
       "\n",
       ".xr-var-dims {\n",
       "  grid-column: 2;\n",
       "}\n",
       "\n",
       ".xr-var-dtype {\n",
       "  grid-column: 3;\n",
       "  text-align: right;\n",
       "  color: var(--xr-font-color2);\n",
       "}\n",
       "\n",
       ".xr-var-preview {\n",
       "  grid-column: 4;\n",
       "}\n",
       "\n",
       ".xr-index-preview {\n",
       "  grid-column: 2 / 5;\n",
       "  color: var(--xr-font-color2);\n",
       "}\n",
       "\n",
       ".xr-var-name,\n",
       ".xr-var-dims,\n",
       ".xr-var-dtype,\n",
       ".xr-preview,\n",
       ".xr-attrs dt {\n",
       "  white-space: nowrap;\n",
       "  overflow: hidden;\n",
       "  text-overflow: ellipsis;\n",
       "  padding-right: 10px;\n",
       "}\n",
       "\n",
       ".xr-var-name:hover,\n",
       ".xr-var-dims:hover,\n",
       ".xr-var-dtype:hover,\n",
       ".xr-attrs dt:hover {\n",
       "  overflow: visible;\n",
       "  width: auto;\n",
       "  z-index: 1;\n",
       "}\n",
       "\n",
       ".xr-var-attrs,\n",
       ".xr-var-data,\n",
       ".xr-index-data {\n",
       "  display: none;\n",
       "  background-color: var(--xr-background-color) !important;\n",
       "  padding-bottom: 5px !important;\n",
       "}\n",
       "\n",
       ".xr-var-attrs-in:checked ~ .xr-var-attrs,\n",
       ".xr-var-data-in:checked ~ .xr-var-data,\n",
       ".xr-index-data-in:checked ~ .xr-index-data {\n",
       "  display: block;\n",
       "}\n",
       "\n",
       ".xr-var-data > table {\n",
       "  float: right;\n",
       "}\n",
       "\n",
       ".xr-var-name span,\n",
       ".xr-var-data,\n",
       ".xr-index-name div,\n",
       ".xr-index-data,\n",
       ".xr-attrs {\n",
       "  padding-left: 25px !important;\n",
       "}\n",
       "\n",
       ".xr-attrs,\n",
       ".xr-var-attrs,\n",
       ".xr-var-data,\n",
       ".xr-index-data {\n",
       "  grid-column: 1 / -1;\n",
       "}\n",
       "\n",
       "dl.xr-attrs {\n",
       "  padding: 0;\n",
       "  margin: 0;\n",
       "  display: grid;\n",
       "  grid-template-columns: 125px auto;\n",
       "}\n",
       "\n",
       ".xr-attrs dt,\n",
       ".xr-attrs dd {\n",
       "  padding: 0;\n",
       "  margin: 0;\n",
       "  float: left;\n",
       "  padding-right: 10px;\n",
       "  width: auto;\n",
       "}\n",
       "\n",
       ".xr-attrs dt {\n",
       "  font-weight: normal;\n",
       "  grid-column: 1;\n",
       "}\n",
       "\n",
       ".xr-attrs dt:hover span {\n",
       "  display: inline-block;\n",
       "  background: var(--xr-background-color);\n",
       "  padding-right: 10px;\n",
       "}\n",
       "\n",
       ".xr-attrs dd {\n",
       "  grid-column: 2;\n",
       "  white-space: pre-wrap;\n",
       "  word-break: break-all;\n",
       "}\n",
       "\n",
       ".xr-icon-database,\n",
       ".xr-icon-file-text2,\n",
       ".xr-no-icon {\n",
       "  display: inline-block;\n",
       "  vertical-align: middle;\n",
       "  width: 1em;\n",
       "  height: 1.5em !important;\n",
       "  stroke-width: 0;\n",
       "  stroke: currentColor;\n",
       "  fill: currentColor;\n",
       "}\n",
       "</style><pre class='xr-text-repr-fallback'>&lt;xarray.Dataset&gt; Size: 3GB\n",
       "Dimensions:     (x: 1710, y: 1272, wl: 184)\n",
       "Coordinates:\n",
       "    latitude    (x, y) float32 9MB 30.22 30.23 30.25 30.27 ... 53.44 53.44 53.45\n",
       "    longitude   (x, y) float32 9MB -93.55 -93.48 -93.41 ... -66.44 -66.33 -66.22\n",
       "    wavelength  (wl) int32 736B 339 341 344 346 348 351 ... 712 713 714 717 719\n",
       "Dimensions without coordinates: x, y, wl\n",
       "Data variables:\n",
       "    Rrs         (x, y, wl) float32 2GB -3.277e+04 -3.277e+04 ... -3.277e+04\n",
       "    Rrs_unc     (x, y, wl) float32 2GB -3.277e+04 -3.277e+04 ... -3.277e+04\n",
       "Attributes: (12/45)\n",
       "    title:                             OCI Level-2 Data\n",
       "    product_name:                      PACE_OCI.20240413T175656.L2.OC_AOP.V1_...\n",
       "    processing_version:                V1.0.0\n",
       "    history:                           l2gen par=/data5/sdpsoper/vdc/vpu4/wor...\n",
       "    instrument:                        OCI\n",
       "    platform:                          PACE\n",
       "    ...                                ...\n",
       "    geospatial_lon_max:                -93.55327\n",
       "    geospatial_lon_min:                -66.257095\n",
       "    startDirection:                    Ascending\n",
       "    endDirection:                      Ascending\n",
       "    day_night_flag:                    Day\n",
       "    earth_sun_distance_correction:     0.9942150712013245</pre><div class='xr-wrap' style='display:none'><div class='xr-header'><div class='xr-obj-type'>xarray.Dataset</div></div><ul class='xr-sections'><li class='xr-section-item'><input id='section-80cc5ec1-0877-4339-b938-ad1523602c15' class='xr-section-summary-in' type='checkbox' disabled ><label for='section-80cc5ec1-0877-4339-b938-ad1523602c15' class='xr-section-summary'  title='Expand/collapse section'>Dimensions:</label><div class='xr-section-inline-details'><ul class='xr-dim-list'><li><span>x</span>: 1710</li><li><span>y</span>: 1272</li><li><span>wl</span>: 184</li></ul></div><div class='xr-section-details'></div></li><li class='xr-section-item'><input id='section-707ef5f4-c84f-46e5-99fa-72edd1a4976e' class='xr-section-summary-in' type='checkbox'  checked><label for='section-707ef5f4-c84f-46e5-99fa-72edd1a4976e' class='xr-section-summary' >Coordinates: <span>(3)</span></label><div class='xr-section-inline-details'></div><div class='xr-section-details'><ul class='xr-var-list'><li class='xr-var-item'><div class='xr-var-name'><span>latitude</span></div><div class='xr-var-dims'>(x, y)</div><div class='xr-var-dtype'>float32</div><div class='xr-var-preview xr-preview'>30.22 30.23 30.25 ... 53.44 53.45</div><input id='attrs-63ca46e2-3377-4788-a9d4-00944be19623' class='xr-var-attrs-in' type='checkbox' disabled><label for='attrs-63ca46e2-3377-4788-a9d4-00944be19623' title='Show/Hide attributes'><svg class='icon xr-icon-file-text2'><use xlink:href='#icon-file-text2'></use></svg></label><input id='data-2e5a7dda-3ba8-40df-af8f-668c231f89eb' class='xr-var-data-in' type='checkbox'><label for='data-2e5a7dda-3ba8-40df-af8f-668c231f89eb' title='Show/Hide data repr'><svg class='icon xr-icon-database'><use xlink:href='#icon-database'></use></svg></label><div class='xr-var-attrs'><dl class='xr-attrs'></dl></div><div class='xr-var-data'><pre>array([[30.216711, 30.233788, 30.250622, ..., 35.65157 , 35.66252 ,\n",
       "        35.67358 ],\n",
       "       [30.227013, 30.244076, 30.260927, ..., 35.662136, 35.673088,\n",
       "        35.68414 ],\n",
       "       [30.236988, 30.254063, 30.270931, ..., 35.672493, 35.68344 ,\n",
       "        35.694492],\n",
       "       ...,\n",
       "       [47.05667 , 47.0826  , 47.10831 , ..., 53.418053, 53.423714,\n",
       "        53.428967],\n",
       "       [47.06591 , 47.09186 , 47.117603, ..., 53.428356, 53.434025,\n",
       "        53.439297],\n",
       "       [47.075226, 47.101353, 47.127003, ..., 53.438786, 53.44442 ,\n",
       "        53.449886]], dtype=float32)</pre></div></li><li class='xr-var-item'><div class='xr-var-name'><span>longitude</span></div><div class='xr-var-dims'>(x, y)</div><div class='xr-var-dtype'>float32</div><div class='xr-var-preview xr-preview'>-93.55 -93.48 ... -66.33 -66.22</div><input id='attrs-e3362b10-ffe8-4665-8f3a-bab82a42c154' class='xr-var-attrs-in' type='checkbox' disabled><label for='attrs-e3362b10-ffe8-4665-8f3a-bab82a42c154' title='Show/Hide attributes'><svg class='icon xr-icon-file-text2'><use xlink:href='#icon-file-text2'></use></svg></label><input id='data-9128dc71-b7c1-49f3-a49f-6910eb92304f' class='xr-var-data-in' type='checkbox'><label for='data-9128dc71-b7c1-49f3-a49f-6910eb92304f' title='Show/Hide data repr'><svg class='icon xr-icon-database'><use xlink:href='#icon-database'></use></svg></label><div class='xr-var-attrs'><dl class='xr-attrs'></dl></div><div class='xr-var-data'><pre>array([[ -93.55327 ,  -93.48226 ,  -93.41246 , ...,  -65.53831 ,\n",
       "         -65.46122 ,  -65.38323 ],\n",
       "       [ -93.55687 ,  -93.48603 ,  -93.41601 , ...,  -65.53855 ,\n",
       "         -65.46146 ,  -65.38344 ],\n",
       "       [ -93.561775,  -93.49091 ,  -93.42077 , ...,  -65.54024 ,\n",
       "         -65.46313 ,  -65.38511 ],\n",
       "       ...,\n",
       "       [-103.31808 , -103.23294 , -103.148155, ...,  -66.435104,\n",
       "         -66.32802 ,  -66.22267 ],\n",
       "       [-103.32653 , -103.2413  , -103.15639 , ...,  -66.43624 ,\n",
       "         -66.32912 ,  -66.2236  ],\n",
       "       [-103.33498 , -103.24887 , -103.164444, ...,  -66.43566 ,\n",
       "         -66.32869 ,  -66.22164 ]], dtype=float32)</pre></div></li><li class='xr-var-item'><div class='xr-var-name'><span>wavelength</span></div><div class='xr-var-dims'>(wl)</div><div class='xr-var-dtype'>int32</div><div class='xr-var-preview xr-preview'>339 341 344 346 ... 713 714 717 719</div><input id='attrs-14a2b93f-be2e-41a9-b68a-a74ba8145f6c' class='xr-var-attrs-in' type='checkbox' disabled><label for='attrs-14a2b93f-be2e-41a9-b68a-a74ba8145f6c' title='Show/Hide attributes'><svg class='icon xr-icon-file-text2'><use xlink:href='#icon-file-text2'></use></svg></label><input id='data-e89330a3-767a-4bb4-96a7-a9bbf1fdc218' class='xr-var-data-in' type='checkbox'><label for='data-e89330a3-767a-4bb4-96a7-a9bbf1fdc218' title='Show/Hide data repr'><svg class='icon xr-icon-database'><use xlink:href='#icon-database'></use></svg></label><div class='xr-var-attrs'><dl class='xr-attrs'></dl></div><div class='xr-var-data'><pre>array([339, 341, 344, 346, 348, 351, 353, 356, 358, 361, 363, 366, 368,\n",
       "       371, 373, 375, 378, 380, 383, 385, 388, 390, 393, 395, 398, 400,\n",
       "       403, 405, 408, 410, 413, 415, 418, 420, 422, 425, 427, 430, 432,\n",
       "       435, 437, 440, 442, 445, 447, 450, 452, 455, 457, 460, 462, 465,\n",
       "       467, 470, 472, 475, 477, 480, 482, 485, 487, 490, 492, 495, 497,\n",
       "       500, 502, 505, 507, 510, 512, 515, 517, 520, 522, 525, 527, 530,\n",
       "       532, 535, 537, 540, 542, 545, 547, 550, 553, 555, 558, 560, 563,\n",
       "       565, 568, 570, 573, 575, 578, 580, 583, 586, 588, 591, 593, 596,\n",
       "       598, 601, 603, 605, 608, 610, 613, 615, 618, 620, 623, 625, 627,\n",
       "       630, 632, 635, 637, 640, 641, 642, 643, 645, 646, 647, 648, 650,\n",
       "       651, 652, 653, 655, 656, 657, 658, 660, 661, 662, 663, 665, 666,\n",
       "       667, 668, 670, 671, 672, 673, 675, 676, 677, 678, 679, 681, 682,\n",
       "       683, 684, 686, 687, 688, 689, 691, 692, 693, 694, 696, 697, 698,\n",
       "       699, 701, 702, 703, 704, 706, 707, 708, 709, 711, 712, 713, 714,\n",
       "       717, 719], dtype=int32)</pre></div></li></ul></div></li><li class='xr-section-item'><input id='section-8c0e1040-a6cc-4215-bf10-0c53e6442611' class='xr-section-summary-in' type='checkbox'  checked><label for='section-8c0e1040-a6cc-4215-bf10-0c53e6442611' class='xr-section-summary' >Data variables: <span>(2)</span></label><div class='xr-section-inline-details'></div><div class='xr-section-details'><ul class='xr-var-list'><li class='xr-var-item'><div class='xr-var-name'><span>Rrs</span></div><div class='xr-var-dims'>(x, y, wl)</div><div class='xr-var-dtype'>float32</div><div class='xr-var-preview xr-preview'>-3.277e+04 ... -3.277e+04</div><input id='attrs-31c92367-0b72-4df1-938b-3173f00f5000' class='xr-var-attrs-in' type='checkbox' disabled><label for='attrs-31c92367-0b72-4df1-938b-3173f00f5000' title='Show/Hide attributes'><svg class='icon xr-icon-file-text2'><use xlink:href='#icon-file-text2'></use></svg></label><input id='data-a9ad945c-74be-4ae9-b620-dfa40e731f3c' class='xr-var-data-in' type='checkbox'><label for='data-a9ad945c-74be-4ae9-b620-dfa40e731f3c' title='Show/Hide data repr'><svg class='icon xr-icon-database'><use xlink:href='#icon-database'></use></svg></label><div class='xr-var-attrs'><dl class='xr-attrs'></dl></div><div class='xr-var-data'><pre>array([[[-3.2767000e+04, -3.2767000e+04, -3.2767000e+04, ...,\n",
       "         -3.2767000e+04, -3.2767000e+04, -3.2767000e+04],\n",
       "        [-3.2767000e+04, -3.2767000e+04, -3.2767000e+04, ...,\n",
       "         -3.2767000e+04, -3.2767000e+04, -3.2767000e+04],\n",
       "        [-3.2767000e+04, -3.2767000e+04, -3.2767000e+04, ...,\n",
       "         -3.2767000e+04, -3.2767000e+04, -3.2767000e+04],\n",
       "        ...,\n",
       "        [-3.2144000e+04, -3.0771000e+04, -5.6079999e-03, ...,\n",
       "          0.0000000e+00,  6.5600127e-04,  1.3680011e-03],\n",
       "        [-3.2210000e+04, -3.0508000e+04, -5.6499988e-03, ...,\n",
       "         -2.3998320e-05,  6.5800175e-04,  1.4140010e-03],\n",
       "        [-3.2767000e+04, -3.2767000e+04, -3.2767000e+04, ...,\n",
       "         -3.2767000e+04, -3.2767000e+04, -3.2767000e+04]],\n",
       "\n",
       "       [[-3.2767000e+04, -3.2767000e+04, -3.2767000e+04, ...,\n",
       "         -3.2767000e+04, -3.2767000e+04, -3.2767000e+04],\n",
       "        [-3.2767000e+04, -3.2767000e+04, -3.2767000e+04, ...,\n",
       "         -3.2767000e+04, -3.2767000e+04, -3.2767000e+04],\n",
       "        [-3.2767000e+04, -3.2767000e+04, -3.2767000e+04, ...,\n",
       "         -3.2767000e+04, -3.2767000e+04, -3.2767000e+04],\n",
       "...\n",
       "        [-3.2767000e+04, -3.2767000e+04, -3.2767000e+04, ...,\n",
       "         -3.2767000e+04, -3.2767000e+04, -3.2767000e+04],\n",
       "        [-3.2767000e+04, -3.2767000e+04, -3.2767000e+04, ...,\n",
       "         -3.2767000e+04, -3.2767000e+04, -3.2767000e+04],\n",
       "        [-3.2767000e+04, -3.2767000e+04, -3.2767000e+04, ...,\n",
       "         -3.2767000e+04, -3.2767000e+04, -3.2767000e+04]],\n",
       "\n",
       "       [[-3.2767000e+04, -3.2767000e+04, -3.2767000e+04, ...,\n",
       "         -3.2767000e+04, -3.2767000e+04, -3.2767000e+04],\n",
       "        [-3.2767000e+04, -3.2767000e+04, -3.2767000e+04, ...,\n",
       "         -3.2767000e+04, -3.2767000e+04, -3.2767000e+04],\n",
       "        [-3.2767000e+04, -3.2767000e+04, -3.2767000e+04, ...,\n",
       "         -3.2767000e+04, -3.2767000e+04, -3.2767000e+04],\n",
       "        ...,\n",
       "        [-3.2767000e+04, -3.2767000e+04, -3.2767000e+04, ...,\n",
       "         -3.2767000e+04, -3.2767000e+04, -3.2767000e+04],\n",
       "        [-3.2767000e+04, -3.2767000e+04, -3.2767000e+04, ...,\n",
       "         -3.2767000e+04, -3.2767000e+04, -3.2767000e+04],\n",
       "        [-3.2767000e+04, -3.2767000e+04, -3.2767000e+04, ...,\n",
       "         -3.2767000e+04, -3.2767000e+04, -3.2767000e+04]]], dtype=float32)</pre></div></li><li class='xr-var-item'><div class='xr-var-name'><span>Rrs_unc</span></div><div class='xr-var-dims'>(x, y, wl)</div><div class='xr-var-dtype'>float32</div><div class='xr-var-preview xr-preview'>-3.277e+04 ... -3.277e+04</div><input id='attrs-e1cb65db-55ee-46e2-a1fb-ba57d4aca931' class='xr-var-attrs-in' type='checkbox' disabled><label for='attrs-e1cb65db-55ee-46e2-a1fb-ba57d4aca931' title='Show/Hide attributes'><svg class='icon xr-icon-file-text2'><use xlink:href='#icon-file-text2'></use></svg></label><input id='data-b530edee-5ed5-47fa-bc21-2debb9573694' class='xr-var-data-in' type='checkbox'><label for='data-b530edee-5ed5-47fa-bc21-2debb9573694' title='Show/Hide data repr'><svg class='icon xr-icon-database'><use xlink:href='#icon-database'></use></svg></label><div class='xr-var-attrs'><dl class='xr-attrs'></dl></div><div class='xr-var-data'><pre>array([[[-3.27670000e+04, -3.27670000e+04, -3.27670000e+04, ...,\n",
       "         -3.27670000e+04, -3.27670000e+04, -3.27670000e+04],\n",
       "        [-3.27670000e+04, -3.27670000e+04, -3.27670000e+04, ...,\n",
       "         -3.27670000e+04, -3.27670000e+04, -3.27670000e+04],\n",
       "        [-3.27670000e+04, -3.27670000e+04, -3.27670000e+04, ...,\n",
       "         -3.27670000e+04, -3.27670000e+04, -3.27670000e+04],\n",
       "        ...,\n",
       "        [ 2.08170014e-03,  2.04625004e-03,  2.01155012e-03, ...,\n",
       "          1.13449991e-04,  1.13249989e-04,  1.13500049e-04],\n",
       "        [ 2.09844997e-03,  2.06559990e-03,  2.02795002e-03, ...,\n",
       "          1.13500049e-04,  1.13349990e-04,  1.13749993e-04],\n",
       "        [-3.27670000e+04, -3.27670000e+04, -3.27670000e+04, ...,\n",
       "         -3.27670000e+04, -3.27670000e+04, -3.27670000e+04]],\n",
       "\n",
       "       [[-3.27670000e+04, -3.27670000e+04, -3.27670000e+04, ...,\n",
       "         -3.27670000e+04, -3.27670000e+04, -3.27670000e+04],\n",
       "        [-3.27670000e+04, -3.27670000e+04, -3.27670000e+04, ...,\n",
       "         -3.27670000e+04, -3.27670000e+04, -3.27670000e+04],\n",
       "        [-3.27670000e+04, -3.27670000e+04, -3.27670000e+04, ...,\n",
       "         -3.27670000e+04, -3.27670000e+04, -3.27670000e+04],\n",
       "...\n",
       "         -3.27670000e+04, -3.27670000e+04, -3.27670000e+04],\n",
       "        [-3.27670000e+04, -3.27670000e+04, -3.27670000e+04, ...,\n",
       "         -3.27670000e+04, -3.27670000e+04, -3.27670000e+04],\n",
       "        [-3.27670000e+04, -3.27670000e+04, -3.27670000e+04, ...,\n",
       "         -3.27670000e+04, -3.27670000e+04, -3.27670000e+04]],\n",
       "\n",
       "       [[-3.27670000e+04, -3.27670000e+04, -3.27670000e+04, ...,\n",
       "         -3.27670000e+04, -3.27670000e+04, -3.27670000e+04],\n",
       "        [-3.27670000e+04, -3.27670000e+04, -3.27670000e+04, ...,\n",
       "         -3.27670000e+04, -3.27670000e+04, -3.27670000e+04],\n",
       "        [-3.27670000e+04, -3.27670000e+04, -3.27670000e+04, ...,\n",
       "         -3.27670000e+04, -3.27670000e+04, -3.27670000e+04],\n",
       "        ...,\n",
       "        [-3.27670000e+04, -3.27670000e+04, -3.27670000e+04, ...,\n",
       "         -3.27670000e+04, -3.27670000e+04, -3.27670000e+04],\n",
       "        [-3.27670000e+04, -3.27670000e+04, -3.27670000e+04, ...,\n",
       "         -3.27670000e+04, -3.27670000e+04, -3.27670000e+04],\n",
       "        [-3.27670000e+04, -3.27670000e+04, -3.27670000e+04, ...,\n",
       "         -3.27670000e+04, -3.27670000e+04, -3.27670000e+04]]],\n",
       "      dtype=float32)</pre></div></li></ul></div></li><li class='xr-section-item'><input id='section-f4e82b24-ba78-4efa-91ef-0ac20252ecc0' class='xr-section-summary-in' type='checkbox' disabled ><label for='section-f4e82b24-ba78-4efa-91ef-0ac20252ecc0' class='xr-section-summary'  title='Expand/collapse section'>Indexes: <span>(0)</span></label><div class='xr-section-inline-details'></div><div class='xr-section-details'><ul class='xr-var-list'></ul></div></li><li class='xr-section-item'><input id='section-3287843e-e022-4206-8c91-0547ce208376' class='xr-section-summary-in' type='checkbox'  ><label for='section-3287843e-e022-4206-8c91-0547ce208376' class='xr-section-summary' >Attributes: <span>(45)</span></label><div class='xr-section-inline-details'></div><div class='xr-section-details'><dl class='xr-attrs'><dt><span>title :</span></dt><dd>OCI Level-2 Data</dd><dt><span>product_name :</span></dt><dd>PACE_OCI.20240413T175656.L2.OC_AOP.V1_0_0.NRT.nc</dd><dt><span>processing_version :</span></dt><dd>V1.0.0</dd><dt><span>history :</span></dt><dd>l2gen par=/data5/sdpsoper/vdc/vpu4/workbuf/PACE_OCI.20240413T175656.L1B.nc.param metafile=PACE_OCI.20240413T175656.L2.OC_AOP.V1_0_0.NRT.nc.meta</dd><dt><span>instrument :</span></dt><dd>OCI</dd><dt><span>platform :</span></dt><dd>PACE</dd><dt><span>Conventions :</span></dt><dd>CF-1.6 ACDD-1.3</dd><dt><span>license :</span></dt><dd>https://science.nasa.gov/earth-science/earth-science-data/data-information-policy/</dd><dt><span>naming_authority :</span></dt><dd>gov.nasa.gsfc.sci.oceandata</dd><dt><span>id :</span></dt><dd>V1.0.0/L2/PACE_OCI.20240413T175656.L2.OC_AOP.V1_0_0.NRT.nc</dd><dt><span>date_created :</span></dt><dd>2024-04-18T15:51:11.000Z</dd><dt><span>standard_name_vocabulary :</span></dt><dd>CF Standard Name Table v36</dd><dt><span>institution :</span></dt><dd>NASA Goddard Space Flight Center, Ocean Ecology Laboratory, Ocean Biology Processing Group</dd><dt><span>creator_name :</span></dt><dd>NASA/GSFC/OBPG</dd><dt><span>creator_email :</span></dt><dd>data@oceancolor.gsfc.nasa.gov</dd><dt><span>creator_url :</span></dt><dd>https://oceandata.sci.gsfc.nasa.gov</dd><dt><span>project :</span></dt><dd>Ocean Biology Processing Group (NASA/GSFC/OBPG)</dd><dt><span>publisher_name :</span></dt><dd>NASA/GSFC/OBPG</dd><dt><span>publisher_url :</span></dt><dd>https://oceandata.sci.gsfc.nasa.gov</dd><dt><span>publisher_email :</span></dt><dd>data@oceancolor.gsfc.nasa.gov</dd><dt><span>identifier_product_doi_authority :</span></dt><dd>http://dx.doi.org</dd><dt><span>identifier_product_doi :</span></dt><dd>10.5067/PACE/OCI/L2/OC_AOP/v1</dd><dt><span>processing_level :</span></dt><dd>L2</dd><dt><span>cdm_data_type :</span></dt><dd>swath</dd><dt><span>spatialResolution :</span></dt><dd>1000 m</dd><dt><span>time_coverage_start :</span></dt><dd>2024-04-13T17:56:56.058Z</dd><dt><span>time_coverage_end :</span></dt><dd>2024-04-13T18:01:55.941Z</dd><dt><span>start_center_longitude :</span></dt><dd>-79.79489</dd><dt><span>start_center_latitude :</span></dt><dd>33.235832</dd><dt><span>end_center_longitude :</span></dt><dd>-85.87476</dd><dt><span>end_center_latitude :</span></dt><dd>51.243282</dd><dt><span>northernmost_latitude :</span></dt><dd>53.449886</dd><dt><span>southernmost_latitude :</span></dt><dd>30.216711</dd><dt><span>easternmost_longitude :</span></dt><dd>-93.55327</dd><dt><span>westernmost_longitude :</span></dt><dd>-66.257095</dd><dt><span>geospatial_lat_units :</span></dt><dd>degrees_north</dd><dt><span>geospatial_lon_units :</span></dt><dd>degrees_east</dd><dt><span>geospatial_lat_max :</span></dt><dd>53.449886</dd><dt><span>geospatial_lat_min :</span></dt><dd>30.216711</dd><dt><span>geospatial_lon_max :</span></dt><dd>-93.55327</dd><dt><span>geospatial_lon_min :</span></dt><dd>-66.257095</dd><dt><span>startDirection :</span></dt><dd>Ascending</dd><dt><span>endDirection :</span></dt><dd>Ascending</dd><dt><span>day_night_flag :</span></dt><dd>Day</dd><dt><span>earth_sun_distance_correction :</span></dt><dd>0.9942150712013245</dd></dl></div></li></ul></div></div>"
      ],
      "text/plain": [
       "<xarray.Dataset> Size: 3GB\n",
       "Dimensions:     (x: 1710, y: 1272, wl: 184)\n",
       "Coordinates:\n",
       "    latitude    (x, y) float32 9MB 30.22 30.23 30.25 30.27 ... 53.44 53.44 53.45\n",
       "    longitude   (x, y) float32 9MB -93.55 -93.48 -93.41 ... -66.44 -66.33 -66.22\n",
       "    wavelength  (wl) int32 736B 339 341 344 346 348 351 ... 712 713 714 717 719\n",
       "Dimensions without coordinates: x, y, wl\n",
       "Data variables:\n",
       "    Rrs         (x, y, wl) float32 2GB -3.277e+04 -3.277e+04 ... -3.277e+04\n",
       "    Rrs_unc     (x, y, wl) float32 2GB -3.277e+04 -3.277e+04 ... -3.277e+04\n",
       "Attributes: (12/45)\n",
       "    title:                             OCI Level-2 Data\n",
       "    product_name:                      PACE_OCI.20240413T175656.L2.OC_AOP.V1_...\n",
       "    processing_version:                V1.0.0\n",
       "    history:                           l2gen par=/data5/sdpsoper/vdc/vpu4/wor...\n",
       "    instrument:                        OCI\n",
       "    platform:                          PACE\n",
       "    ...                                ...\n",
       "    geospatial_lon_max:                -93.55327\n",
       "    geospatial_lon_min:                -66.257095\n",
       "    startDirection:                    Ascending\n",
       "    endDirection:                      Ascending\n",
       "    day_night_flag:                    Day\n",
       "    earth_sun_distance_correction:     0.9942150712013245"
      ]
     },
     "execution_count": 5,
     "metadata": {},
     "output_type": "execute_result"
    }
   ],
   "source": [
    "xds"
   ]
  },
  {
   "cell_type": "markdown",
   "id": "aa4adc39-e695-4337-b729-be9d0be8c00b",
   "metadata": {},
   "source": [
    "### Polish up "
   ]
  },
  {
   "cell_type": "code",
   "execution_count": 6,
   "id": "2192b726-1176-469f-bb04-0db43d3c109d",
   "metadata": {},
   "outputs": [],
   "source": [
    "xds['Rrs'] = xarray.where(xds['Rrs']>-10, xds['Rrs'], np.nan)\n",
    "xds['Rrs'] = xarray.where(xds['Rrs']<100, xds['Rrs'], np.nan)\n",
    "# Error too\n",
    "xds['Rrs_unc'] = xarray.where(xds['Rrs']>-10, xds['Rrs_unc'], np.nan)\n",
    "xds['Rrs_unc'] = xarray.where(xds['Rrs']<100, xds['Rrs_unc'], np.nan)"
   ]
  },
  {
   "cell_type": "code",
   "execution_count": 7,
   "id": "1c4de5b4-050c-4e52-aa36-2e9ce3fc12c4",
   "metadata": {},
   "outputs": [],
   "source": [
    "xds_subset = xds.where((xds.longitude > -78) & (xds.longitude < -73))\n",
    "xds_subset = xds_subset.where((xds_subset.latitude > 33) & (xds_subset.latitude < 40))"
   ]
  },
  {
   "cell_type": "markdown",
   "id": "86617445-050e-4e44-a510-fac487f16119",
   "metadata": {},
   "source": [
    "## L23"
   ]
  },
  {
   "cell_type": "code",
   "execution_count": 8,
   "id": "f905391d-8e61-44b9-8dff-8cc6d18e949d",
   "metadata": {},
   "outputs": [
    {
     "name": "stdout",
     "output_type": "stream",
     "text": [
      "Loading... \n",
      "Loading decomps from /home/xavier/Projects/Oceanography/python/ihop/ihop/data/NMF/nmf_L23_X4Y0_a_N02.npz and /home/xavier/Projects/Oceanography/python/ihop/ihop/data/NMF/nmf_L23_X4Y0_bb_N02.npz\n"
     ]
    }
   ],
   "source": [
    "ab, Chl, Rs, d_a, d_bb = ihop_io.load_l23_full(('nmf','nmf'), (2,2))"
   ]
  },
  {
   "cell_type": "markdown",
   "id": "7a015e40-f50a-4f19-846e-a9ceffa6bb6a",
   "metadata": {},
   "source": [
    "## L23 $R_{\\rm rs}$ decomposition"
   ]
  },
  {
   "cell_type": "code",
   "execution_count": 9,
   "id": "ceab19d8-cf86-40df-9eff-0bb11d3885e7",
   "metadata": {},
   "outputs": [
    {
     "data": {
      "text/plain": [
       "NpzFile '/home/xavier/Projects/Oceanography/python/ihop/ihop/data/NMF/nmf_L23_X4Y0_Rrs_N02.npz' with keys: M, coeff, spec, mask, err..."
      ]
     },
     "execution_count": 9,
     "metadata": {},
     "output_type": "execute_result"
    }
   ],
   "source": [
    "decomp_file = iops_io.loisel23_filename('nmf', 'Rrs', 2, 4, 0)\n",
    "d_Rrs = np.load(decomp_file)\n",
    "d_Rrs"
   ]
  },
  {
   "cell_type": "markdown",
   "id": "7ee92306-2557-466b-ad99-1b2d71ac49e2",
   "metadata": {},
   "source": [
    "# Grab a PACE spectrum"
   ]
  },
  {
   "cell_type": "code",
   "execution_count": 10,
   "id": "d47c3c38-6a34-4fdf-90f9-8d558b7fd66f",
   "metadata": {},
   "outputs": [],
   "source": [
    "lon = -75.5 # W\n",
    "lat = 34.5 # N"
   ]
  },
  {
   "cell_type": "code",
   "execution_count": 11,
   "id": "8b34709e-c361-4a42-99d2-f05973568f6a",
   "metadata": {},
   "outputs": [
    {
     "data": {
      "text/plain": [
       "53117"
      ]
     },
     "execution_count": 11,
     "metadata": {},
     "output_type": "execute_result"
    }
   ],
   "source": [
    "idx = np.argmin( (xds.longitude.data-lon)**2 + (xds.latitude.data-lat)**2)\n",
    "idx"
   ]
  },
  {
   "cell_type": "code",
   "execution_count": 12,
   "id": "0e5cf320-3db5-4e23-a5ec-c66d2b6cce92",
   "metadata": {},
   "outputs": [
    {
     "data": {
      "text/plain": [
       "(41, 965)"
      ]
     },
     "execution_count": 12,
     "metadata": {},
     "output_type": "execute_result"
    }
   ],
   "source": [
    "x,y = np.unravel_index(idx, xds.longitude.shape)\n",
    "x,y"
   ]
  },
  {
   "cell_type": "code",
   "execution_count": 13,
   "id": "4df8fadd-2444-4f74-aac7-8a3d75eb0406",
   "metadata": {},
   "outputs": [
    {
     "data": {
      "text/plain": [
       "-75.49837"
      ]
     },
     "execution_count": 13,
     "metadata": {},
     "output_type": "execute_result"
    }
   ],
   "source": [
    "xds.longitude.data[x,y]"
   ]
  },
  {
   "cell_type": "code",
   "execution_count": 14,
   "id": "f077c581-1f3d-4977-9c85-253146ac0b6d",
   "metadata": {},
   "outputs": [],
   "source": [
    "spec = xds.Rrs.data[x,y,:]"
   ]
  },
  {
   "cell_type": "code",
   "execution_count": 15,
   "id": "4306fa95-35a3-4058-a173-089d1035c5b9",
   "metadata": {},
   "outputs": [
    {
     "data": {
      "application/vnd.jupyter.widget-view+json": {
       "model_id": "6101e66601534bc9bd43b0d1688b66d3",
       "version_major": 2,
       "version_minor": 0
      },
      "image/png": "[encoded data removed]",
      "text/html": [
       "\n",
       "            <div style=\"display: inline-block;\">\n",
       "                <div class=\"jupyter-widgets widget-label\" style=\"text-align: center;\">\n",
       "                    Figure\n",
       "                </div>\n",
       "                <img src='data:image/png;base64,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' width=500.0/>\n",
       "            </div>\n",
       "        "
      ],
      "text/plain": [
       "Canvas(toolbar=Toolbar(toolitems=[('Home', 'Reset original view', 'home', 'home'), ('Back', 'Back to previous …"
      ]
     },
     "metadata": {},
     "output_type": "display_data"
    }
   ],
   "source": [
    "fig = plt.figure(figsize=(5,5))\n",
    "ax = plt.gca()\n",
    "#\n",
    "ax.plot(xds.wavelength, spec)\n",
    "#\n",
    "plt.show()"
   ]
  },
  {
   "cell_type": "markdown",
   "id": "93e26ea7-1661-4a9f-ab39-bb2c76b2c639",
   "metadata": {},
   "source": [
    "# Prep for the rest"
   ]
  },
  {
   "cell_type": "code",
   "execution_count": 16,
   "id": "0d14938f-8654-4a1d-9cdc-97a147bee2cd",
   "metadata": {},
   "outputs": [],
   "source": [
    "spec = np.resize(spec, (1,spec.size))"
   ]
  },
  {
   "cell_type": "code",
   "execution_count": 24,
   "id": "53218536-1824-462c-b873-6ff7e7dd5964",
   "metadata": {},
   "outputs": [],
   "source": [
    "L23_waves = np.array((d_Rrs['wave']-2.5).tolist() + [d_Rrs['wave'][-1] + 2.5])"
   ]
  },
  {
   "cell_type": "code",
   "execution_count": 25,
   "id": "02036368-9605-4ee6-b367-0c44dba55902",
   "metadata": {},
   "outputs": [],
   "source": [
    "rebin_wave, rebin_values, rebin_err = spectra.rebin_to_grid(\n",
    "    xds.wavelength.data, spec.T, np.ones_like(spec.T), L23_waves)"
   ]
  },
  {
   "cell_type": "code",
   "execution_count": 26,
   "id": "c7173ffd-a902-4681-a947-8a767dabfcbd",
   "metadata": {},
   "outputs": [
    {
     "data": {
      "text/plain": [
       "array([350., 355., 360., 365., 370., 375., 380., 385., 390., 395., 400.,\n",
       "       405., 410., 415., 420., 425., 430., 435., 440., 445., 450., 455.,\n",
       "       460., 465., 470., 475., 480., 485., 490., 495., 500., 505., 510.,\n",
       "       515., 520., 525., 530., 535., 540., 545., 550., 555., 560., 565.,\n",
       "       570., 575., 580., 585., 590., 595., 600., 605., 610., 615., 620.,\n",
       "       625., 630., 635., 640., 645., 650., 655., 660., 665., 670., 675.,\n",
       "       680., 685., 690., 695., 700., 705., 710., 715., 720., 725., 730.,\n",
       "       735., 740., 745., 750.])"
      ]
     },
     "execution_count": 26,
     "metadata": {},
     "output_type": "execute_result"
    }
   ],
   "source": [
    "rebin_wave"
   ]
  },
  {
   "cell_type": "markdown",
   "id": "037af887-3c28-4a20-9843-7c10cb5c3cc6",
   "metadata": {},
   "source": [
    "## Check"
   ]
  },
  {
   "cell_type": "code",
   "execution_count": 28,
   "id": "d0deaba5-dd82-492d-bd28-3446adc461bd",
   "metadata": {},
   "outputs": [
    {
     "data": {
      "application/vnd.jupyter.widget-view+json": {
       "model_id": "c1d862b96bab49a7b5c6553fe80c66da",
       "version_major": 2,
       "version_minor": 0
      },
      "image/png": "[encoded data removed]",
      "text/html": [
       "\n",
       "            <div style=\"display: inline-block;\">\n",
       "                <div class=\"jupyter-widgets widget-label\" style=\"text-align: center;\">\n",
       "                    Figure\n",
       "                </div>\n",
       "                <img src='data:image/png;base64,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' width=500.0/>\n",
       "            </div>\n",
       "        "
      ],
      "text/plain": [
       "Canvas(toolbar=Toolbar(toolitems=[('Home', 'Reset original view', 'home', 'home'), ('Back', 'Back to previous …"
      ]
     },
     "metadata": {},
     "output_type": "display_data"
    }
   ],
   "source": [
    "fig = plt.figure(figsize=(5,5))\n",
    "ax = plt.gca()\n",
    "#\n",
    "ax.plot(xds.wavelength, spec[0], 'k-', label='Orig')\n",
    "ax.plot(rebin_wave, rebin_values[0,:], 'b-', label='Rebin')\n",
    "ax.plot(rebin_wave, rebin_err[0,:]*1e-3, 'r', label='Error')\n",
    "#\n",
    "plt.show()"
   ]
  },
  {
   "cell_type": "markdown",
   "id": "6eded0a4-ac74-4874-a4b3-ffc1b258f1ed",
   "metadata": {},
   "source": [
    "# Fit with NMF"
   ]
  },
  {
   "cell_type": "code",
   "execution_count": null,
   "id": "7690dace-752c-4687-a8c8-f300920aa0be",
   "metadata": {},
   "outputs": [],
   "source": []
  }
 ],
 "metadata": {
  "kernelspec": {
   "display_name": "Python 3 (ipykernel)",
   "language": "python",
   "name": "python3"
  },
  "language_info": {
   "codemirror_mode": {
    "name": "ipython",
    "version": 3
   },
   "file_extension": ".py",
   "mimetype": "text/x-python",
   "name": "python",
   "nbconvert_exporter": "python",
   "pygments_lexer": "ipython3",
   "version": "3.11.6"
  }
 },
 "nbformat": 4,
 "nbformat_minor": 5
}
