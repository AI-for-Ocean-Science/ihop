{
 "cells": [
  {
   "cell_type": "markdown",
   "id": "7d2c3fc3-7c17-41f9-a697-5a1a7700ab03",
   "metadata": {},
   "source": [
    "# Debuggin abs_sig"
   ]
  },
  {
   "cell_type": "code",
   "execution_count": 2,
   "id": "f2f74fc9-f9e5-4423-a402-08ae73af93da",
   "metadata": {},
   "outputs": [],
   "source": [
    "from importlib import reload\n",
    "\n",
    "import os\n",
    "import matplotlib.pyplot as plt\n",
    "import matplotlib.gridspec as gridspec\n",
    "\n",
    "import numpy as np\n",
    "from datetime import datetime, time\n",
    "import random \n",
    "import torch\n",
    "\n",
    "import pandas\n",
    "import seaborn as sns\n",
    "\n",
    "from oceancolor.utils import plotting \n",
    "from oceancolor.iop import cross\n",
    "\n",
    "from ihop import io as ihop_io\n",
    "from ihop.iops import decompose \n",
    "from ihop.emulators import io as emu_io\n",
    "from ihop.inference import io as inf_io\n",
    "from ihop.inference import analysis\n",
    "from ihop.training_sets import load_rs\n"
   ]
  },
  {
   "cell_type": "markdown",
   "id": "fb569980-0afa-4399-bcac-fd2a1388f8c9",
   "metadata": {},
   "source": [
    "# Load"
   ]
  },
  {
   "cell_type": "code",
   "execution_count": 8,
   "id": "cb13f942-77f4-487a-a6ee-071700df9100",
   "metadata": {},
   "outputs": [],
   "source": [
    "fpath = 'Fits/L23'\n",
    "f01 = os.path.join(fpath, 'fit_Rs01_L23_X4_Y0_pcapca_42_chl_Rrs_dense_512_512_512_256.npz')\n",
    "f02 = os.path.join(fpath, 'fit_Rs02_L23_X4_Y0_pcapca_42_chl_Rrs_dense_512_512_512_256.npz')\n",
    "f05 = os.path.join(fpath, 'fit_Rs05_L23_X4_Y0_pcapca_42_chl_Rrs_dense_512_512_512_256.npz')\n",
    "#\n",
    "d_01 = np.load(f01)\n",
    "d_02 = np.load(f02)\n",
    "d_05 = np.load(f05)"
   ]
  },
  {
   "cell_type": "markdown",
   "id": "00edb370-5ebf-4d8c-9c0a-ca0d688e425b",
   "metadata": {},
   "source": [
    "# Cut down the chains"
   ]
  },
  {
   "cell_type": "code",
   "execution_count": 9,
   "id": "3b5c01d6-aff6-4fdf-9b5b-f9132d46deb6",
   "metadata": {},
   "outputs": [],
   "source": [
    "chains_01 = analysis.chop_chains(d_01['chains'])\n",
    "chains_02 = analysis.chop_chains(d_02['chains'])\n",
    "chains_05 = analysis.chop_chains(d_05['chains'])"
   ]
  },
  {
   "cell_type": "code",
   "execution_count": 10,
   "id": "542e33bf-688f-411e-9439-63941b2cdb9c",
   "metadata": {},
   "outputs": [
    {
     "data": {
      "text/plain": [
       "(2, 48000, 7)"
      ]
     },
     "execution_count": 10,
     "metadata": {},
     "output_type": "execute_result"
    }
   ],
   "source": [
    "chains_01.shape"
   ]
  },
  {
   "cell_type": "markdown",
   "id": "6f7d18df-8cae-482e-90f7-170f7313f712",
   "metadata": {},
   "source": [
    "# Examine"
   ]
  },
  {
   "cell_type": "code",
   "execution_count": 11,
   "id": "8c60a5ad-cfea-4a12-8aa2-43cad24fb5cf",
   "metadata": {},
   "outputs": [
    {
     "data": {
      "text/plain": [
       "(-0.18475048, -0.18475568, -0.18476026)"
      ]
     },
     "execution_count": 11,
     "metadata": {},
     "output_type": "execute_result"
    }
   ],
   "source": [
    "np.median(chains_01[0, :, 0]), np.median(chains_02[0, :, 0]), np.median(chains_05[0, :, 0])"
   ]
  },
  {
   "cell_type": "code",
   "execution_count": null,
   "id": "9fbfcc51-3894-4d1a-bd92-b339e5a253fa",
   "metadata": {},
   "outputs": [],
   "source": []
  }
 ],
 "metadata": {
  "kernelspec": {
   "display_name": "Python 3 (ipykernel)",
   "language": "python",
   "name": "python3"
  },
  "language_info": {
   "codemirror_mode": {
    "name": "ipython",
    "version": 3
   },
   "file_extension": ".py",
   "mimetype": "text/x-python",
   "name": "python",
   "nbconvert_exporter": "python",
   "pygments_lexer": "ipython3",
   "version": "3.11.7"
  }
 },
 "nbformat": 4,
 "nbformat_minor": 5
}
